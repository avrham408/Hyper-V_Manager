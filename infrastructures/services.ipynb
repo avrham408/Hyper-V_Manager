{
 "cells": [
  {
   "cell_type": "code",
   "execution_count": 1,
   "metadata": {},
   "outputs": [],
   "source": [
    "import wmi\n",
    "import platform\n",
    "from infrastructures import wmi_infra\n",
    "\n",
    "host = platform.uname()[1]\n",
    "client = wmi_infra.connect_to_wmi(host, r\"root\\virtualization\\v2\")\n"
   ]
  },
  {
   "cell_type": "code",
   "execution_count": 2,
   "metadata": {},
   "outputs": [],
   "source": [
    "services = wmi_infra.SERVICE_COMPONENT"
   ]
  },
  {
   "cell_type": "code",
   "execution_count": 3,
   "metadata": {},
   "outputs": [],
   "source": [
    "vm_setting = wmi_infra.__get_setting_data(client, \"202H\", services[\"TimeSync\"])"
   ]
  },
  {
   "cell_type": "code",
   "execution_count": 6,
   "metadata": {},
   "outputs": [
    {
     "name": "stdout",
     "output_type": "stream",
     "text": [
      "\n",
      "instance of Msvm_ShutdownComponentSettingData\n",
      "{\n",
      "\tAddress = NULL;\n",
      "\tAddressOnParent = NULL;\n",
      "\tAllocationUnits = \"count\";\n",
      "\tAutomaticAllocation = TRUE;\n",
      "\tAutomaticDeallocation = TRUE;\n",
      "\tCaption = \"Shutdown\";\n",
      "\tConnection = NULL;\n",
      "\tConsumerVisibility = 3;\n",
      "\tDescription = \"Microsoft Shutdown Service Setting Data\";\n",
      "\tElementName = \"Shutdown\";\n",
      "\tEnabledState = 3;\n",
      "\tHostResource = NULL;\n",
      "\tInstanceID = \"Microsoft:C30A01E0-7219-4C61-8DBC-A24FD8DDA1CE\\\\9F8233AC-BE49-4C79-8EE3-E7E1985B2077\";\n",
      "\tLimit = \"1\";\n",
      "\tMappingBehavior = NULL;\n",
      "\tOtherResourceType = \"Microsoft:Hyper-V:Shutdown Component\";\n",
      "\tParent = NULL;\n",
      "\tPoolID = \"\";\n",
      "\tReservation = \"1\";\n",
      "\tResourceSubType = NULL;\n",
      "\tResourceType = 1;\n",
      "\tVirtualQuantity = \"1\";\n",
      "\tVirtualQuantityUnits = \"count\";\n",
      "\tWeight = 0;\n",
      "};\n",
      "\n"
     ]
    }
   ],
   "source": [
    "print(vm_setting)"
   ]
  },
  {
   "cell_type": "code",
   "execution_count": 5,
   "metadata": {},
   "outputs": [],
   "source": [
    "vm_setting.EnabledState = \"3\""
   ]
  },
  {
   "cell_type": "code",
   "execution_count": null,
   "metadata": {},
   "outputs": [],
   "source": [
    "mgmsv = client.Msvm_VirtualSystemManagementService()[0]\n"
   ]
  },
  {
   "cell_type": "code",
   "execution_count": 8,
   "metadata": {},
   "outputs": [
    {
     "data": {
      "text/plain": [
       "(None,\n",
       " ['\\\\\\\\HY159-AVIW\\\\root\\\\virtualization\\\\v2:Msvm_ShutdownComponentSettingData.InstanceID=\"Microsoft:C30A01E0-7219-4C61-8DBC-A24FD8DDA1CE\\\\\\\\9F8233AC-BE49-4C79-8EE3-E7E1985B2077\"'],\n",
       " 0)"
      ]
     },
     "execution_count": 8,
     "metadata": {},
     "output_type": "execute_result"
    }
   ],
   "source": [
    "mgmsv.ModifyGuestServiceSettings([vm_setting.GetText_(1)])"
   ]
  },
  {
   "cell_type": "code",
   "execution_count": 4,
   "metadata": {},
   "outputs": [
    {
     "data": {
      "text/plain": [
       "<function ModifyGuestServiceSettings (GuestServiceSettings[]) => (Job, ResultingGuestServiceSettings[], ReturnValue)>"
      ]
     },
     "execution_count": 4,
     "metadata": {},
     "output_type": "execute_result"
    }
   ],
   "source": [
    "mgmsv.ModifyGuestServiceSettings"
   ]
  },
  {
   "cell_type": "code",
   "execution_count": 25,
   "metadata": {},
   "outputs": [],
   "source": [
    "j = client.Msvm_ConcreteJob(InstanceID=\"21EE1BE3-AFA5-42B8-AB98-C928F4C7FD26\")[0]"
   ]
  },
  {
   "cell_type": "code",
   "execution_count": 26,
   "metadata": {},
   "outputs": [
    {
     "name": "stdout",
     "output_type": "stream",
     "text": [
      "\n",
      "instance of Msvm_ConcreteJob\n",
      "{\n",
      "\tCancellable = FALSE;\n",
      "\tCaption = \"Modifying Service Settings\";\n",
      "\tCommunicationStatus = NULL;\n",
      "\tDeleteOnCompletion = FALSE;\n",
      "\tDescription = \"Modifying Service Settings\";\n",
      "\tDetailedStatus = NULL;\n",
      "\tElapsedTime = \"00000000000000.000805:000\";\n",
      "\tElementName = \"Modifying Service Settings\";\n",
      "\tErrorCode = 32773;\n",
      "\tErrorDescription = \"Failed to modify service settings.\";\n",
      "\tErrorSummaryDescription = \"Failed to modify service settings.\";\n",
      "\tHealthState = 5;\n",
      "\tInstallDate = \"16010101000000.000000-000\";\n",
      "\tInstanceID = \"21EE1BE3-AFA5-42B8-AB98-C928F4C7FD26\";\n",
      "\tJobRunTimes = 1;\n",
      "\tJobState = 10;\n",
      "\tJobStatus = \"Job is completed with error\";\n",
      "\tJobType = 4;\n",
      "\tLocalOrUtcTime = 2;\n",
      "\tName = \"Modifying Service Settings\";\n",
      "\tNotify = \"\";\n",
      "\tOperatingStatus = NULL;\n",
      "\tOperationalStatus = {17, 6};\n",
      "\tOtherRecoveryAction = \"\";\n",
      "\tOwner = \"AzureAD\\\\AviWertheimer\";\n",
      "\tPercentComplete = 0;\n",
      "\tPrimaryStatus = NULL;\n",
      "\tPriority = 0;\n",
      "\tRecoveryAction = 2;\n",
      "\tRunDay = NULL;\n",
      "\tRunDayOfWeek = NULL;\n",
      "\tRunMonth = NULL;\n",
      "\tRunStartInterval = NULL;\n",
      "\tScheduledStartTime = \"20201107010156.000000-000\";\n",
      "\tStartTime = \"20201107010156.000000-000\";\n",
      "\tStatus = \"Error\";\n",
      "\tStatusDescriptions = {\"Job is completed\", \"Job is completed with error\"};\n",
      "\tTimeBeforeRemoval = \"00000000000500.000000:000\";\n",
      "\tTimeOfLastStateChange = \"20201107010156.000000-000\";\n",
      "\tTimeSubmitted = \"20201107010156.000000-000\";\n",
      "\tUntilTime = NULL;\n",
      "};\n",
      "\n"
     ]
    }
   ],
   "source": [
    "print(j)"
   ]
  },
  {
   "cell_type": "code",
   "execution_count": 32,
   "metadata": {},
   "outputs": [],
   "source": [
    "s = client.Msvm_VirtualSystemManagementServiceSettingData()[0]"
   ]
  },
  {
   "cell_type": "code",
   "execution_count": 6,
   "metadata": {},
   "outputs": [
    {
     "data": {
      "text/plain": [
       "{'ShutDown': 'Msvm_ShutdownComponentSettingData',\n",
       " 'TimeSync': 'Msvm_TimeSyncComponentSettingData',\n",
       " 'DataExchange': 'Msvm_KvpExchangeComponentSettingData',\n",
       " 'Hearybeat': 'Msvm_GuestCommunicationServiceSettingData',\n",
       " 'Backup': 'Msvm_VssComponentSettingData',\n",
       " 'GuestServices': 'Msvm_GuestServiceInterfaceComponentSettingData'}"
      ]
     },
     "execution_count": 6,
     "metadata": {},
     "output_type": "execute_result"
    }
   ],
   "source": [
    "services"
   ]
  },
  {
   "cell_type": "code",
   "execution_count": 10,
   "metadata": {},
   "outputs": [
    {
     "name": "stdout",
     "output_type": "stream",
     "text": [
      "None ['\\\\\\\\HY159-AVIW\\\\root\\\\virtualization\\\\v2:Msvm_ShutdownComponentSettingData.InstanceID=\"Microsoft:C30A01E0-7219-4C61-8DBC-A24FD8DDA1CE\\\\\\\\9F8233AC-BE49-4C79-8EE3-E7E1985B2077\"'] 0\n",
      "None ['\\\\\\\\HY159-AVIW\\\\root\\\\virtualization\\\\v2:Msvm_TimeSyncComponentSettingData.InstanceID=\"Microsoft:C30A01E0-7219-4C61-8DBC-A24FD8DDA1CE\\\\\\\\2497F4DE-E9FA-4204-80E4-4B75C46419C0\"'] 0\n",
      "None ['\\\\\\\\HY159-AVIW\\\\root\\\\virtualization\\\\v2:Msvm_KvpExchangeComponentSettingData.InstanceID=\"Microsoft:C30A01E0-7219-4C61-8DBC-A24FD8DDA1CE\\\\\\\\2A34B1C2-FD73-4043-8A5B-DD2159BC743F\"'] 0\n",
      "None ['\\\\\\\\HY159-AVIW\\\\root\\\\virtualization\\\\v2:Msvm_VssComponentSettingData.InstanceID=\"Microsoft:C30A01E0-7219-4C61-8DBC-A24FD8DDA1CE\\\\\\\\5CED1297-4598-4915-A5FC-AD21BB4D02A4\"'] 0\n",
      "None ['\\\\\\\\HY159-AVIW\\\\root\\\\virtualization\\\\v2:Msvm_GuestServiceInterfaceComponentSettingData.InstanceID=\"Microsoft:C30A01E0-7219-4C61-8DBC-A24FD8DDA1CE\\\\\\\\6C09BB55-D683-4DA0-8931-C9BF705F6480\"'] 0\n",
      "None ['\\\\\\\\HY159-AVIW\\\\root\\\\virtualization\\\\v2:Msvm_HeartbeatComponentSettingData.InstanceID=\"Microsoft:C30A01E0-7219-4C61-8DBC-A24FD8DDA1CE\\\\\\\\84EAAE65-2F2E-45F5-9BB5-0E857DC8EB47\"'] 0\n"
     ]
    }
   ],
   "source": [
    "mgmsv = client.Msvm_VirtualSystemManagementService()[0]\n",
    "\n",
    "for service, COMPONENT in services.items():\n",
    "    vm_setting = wmi_infra.__get_setting_data(client, \"202H\", COMPONENT)\n",
    "    vm_setting.EnabledState = \"3\"\n",
    "    j, res, return_value = mgmsv.ModifyGuestServiceSettings([vm_setting.GetText_(1)])\n",
    "    print(j, res, return_value)"
   ]
  },
  {
   "cell_type": "code",
   "execution_count": 9,
   "metadata": {},
   "outputs": [
    {
     "name": "stdout",
     "output_type": "stream",
     "text": [
      "Msvm_HeartbeatComponent\n",
      "Msvm_HeartbeatComponentSettingData\n"
     ]
    }
   ],
   "source": [
    "for i in client.classes:\n",
    "    if \"Heart\" in i:\n",
    "        print(i)"
   ]
  },
  {
   "cell_type": "code",
   "execution_count": 15,
   "metadata": {},
   "outputs": [
    {
     "name": "stdout",
     "output_type": "stream",
     "text": [
      "\n",
      "instance of Msvm_ComputerSystem\n",
      "{\n",
      "\tAvailableRequestedStates = NULL;\n",
      "\tCaption = \"Virtual Machine\";\n",
      "\tCommunicationStatus = NULL;\n",
      "\tCreationClassName = \"Msvm_ComputerSystem\";\n",
      "\tDedicated = NULL;\n",
      "\tDescription = \"Microsoft Virtual Machine\";\n",
      "\tDetailedStatus = NULL;\n",
      "\tElementName = \"2004 enterprise\";\n",
      "\tEnabledDefault = 3;\n",
      "\tEnabledState = 3;\n",
      "\tEnhancedSessionModeState = 3;\n",
      "\tFailedOverReplicationType = 0;\n",
      "\tHealthState = 5;\n",
      "\tHwThreadsPerCoreRealized = NULL;\n",
      "\tIdentifyingDescriptions = NULL;\n",
      "\tInstallDate = \"20201028110228.718025-000\";\n",
      "\tInstanceID = NULL;\n",
      "\tLastApplicationConsistentReplicationTime = \"16010101000000.000000-000\";\n",
      "\tLastReplicationTime = \"16010101000000.000000-000\";\n",
      "\tLastReplicationType = 0;\n",
      "\tLastSuccessfulBackupTime = NULL;\n",
      "\tName = \"4A13A170-D212-46EB-B8A2-57FFEAFFCDEC\";\n",
      "\tNameFormat = NULL;\n",
      "\tNumberOfNumaNodes = 1;\n",
      "\tOnTimeInMilliseconds = \"0\";\n",
      "\tOperatingStatus = NULL;\n",
      "\tOperationalStatus = {2};\n",
      "\tOtherDedicatedDescriptions = NULL;\n",
      "\tOtherEnabledState = NULL;\n",
      "\tOtherIdentifyingInfo = NULL;\n",
      "\tPowerManagementCapabilities = NULL;\n",
      "\tPrimaryOwnerContact = NULL;\n",
      "\tPrimaryOwnerName = NULL;\n",
      "\tPrimaryStatus = NULL;\n",
      "\tProcessID = NULL;\n",
      "\tReplicationHealth = 0;\n",
      "\tReplicationMode = 0;\n",
      "\tReplicationState = 0;\n",
      "\tRequestedState = 5;\n",
      "\tResetCapability = 1;\n",
      "\tRoles = NULL;\n",
      "\tStatus = \"OK\";\n",
      "\tStatusDescriptions = {\"Operating normally\"};\n",
      "\tTimeOfLastConfigurationChange = \"20201106230836.447918-000\";\n",
      "\tTimeOfLastStateChange = \"20201106230836.446914-000\";\n",
      "\tTransitioningToState = NULL;\n",
      "};\n",
      "\n",
      "\n",
      "instance of Msvm_ComputerSystem\n",
      "{\n",
      "\tAvailableRequestedStates = NULL;\n",
      "\tCaption = \"Virtual Machine\";\n",
      "\tCommunicationStatus = NULL;\n",
      "\tCreationClassName = \"Msvm_ComputerSystem\";\n",
      "\tDedicated = NULL;\n",
      "\tDescription = \"Microsoft Virtual Machine\";\n",
      "\tDetailedStatus = NULL;\n",
      "\tElementName = \"1909\";\n",
      "\tEnabledDefault = 3;\n",
      "\tEnabledState = 3;\n",
      "\tEnhancedSessionModeState = 3;\n",
      "\tFailedOverReplicationType = 0;\n",
      "\tHealthState = 5;\n",
      "\tHwThreadsPerCoreRealized = NULL;\n",
      "\tIdentifyingDescriptions = NULL;\n",
      "\tInstallDate = \"20201028113442.049312-000\";\n",
      "\tInstanceID = NULL;\n",
      "\tLastApplicationConsistentReplicationTime = \"16010101000000.000000-000\";\n",
      "\tLastReplicationTime = \"16010101000000.000000-000\";\n",
      "\tLastReplicationType = 0;\n",
      "\tLastSuccessfulBackupTime = NULL;\n",
      "\tName = \"5CAE4F2B-EC8C-46F2-946B-D44577BFB0DC\";\n",
      "\tNameFormat = NULL;\n",
      "\tNumberOfNumaNodes = 1;\n",
      "\tOnTimeInMilliseconds = \"0\";\n",
      "\tOperatingStatus = NULL;\n",
      "\tOperationalStatus = {2};\n",
      "\tOtherDedicatedDescriptions = NULL;\n",
      "\tOtherEnabledState = NULL;\n",
      "\tOtherIdentifyingInfo = NULL;\n",
      "\tPowerManagementCapabilities = NULL;\n",
      "\tPrimaryOwnerContact = NULL;\n",
      "\tPrimaryOwnerName = NULL;\n",
      "\tPrimaryStatus = NULL;\n",
      "\tProcessID = NULL;\n",
      "\tReplicationHealth = 0;\n",
      "\tReplicationMode = 0;\n",
      "\tReplicationState = 0;\n",
      "\tRequestedState = 5;\n",
      "\tResetCapability = 1;\n",
      "\tRoles = NULL;\n",
      "\tStatus = \"OK\";\n",
      "\tStatusDescriptions = {\"Operating normally\"};\n",
      "\tTimeOfLastConfigurationChange = \"20201106230838.113682-000\";\n",
      "\tTimeOfLastStateChange = \"20201106230838.112684-000\";\n",
      "\tTransitioningToState = NULL;\n",
      "};\n",
      "\n",
      "\n",
      "instance of Msvm_ComputerSystem\n",
      "{\n",
      "\tAvailableRequestedStates = NULL;\n",
      "\tCaption = \"Virtual Machine\";\n",
      "\tCommunicationStatus = NULL;\n",
      "\tCreationClassName = \"Msvm_ComputerSystem\";\n",
      "\tDedicated = NULL;\n",
      "\tDescription = \"Microsoft Virtual Machine\";\n",
      "\tDetailedStatus = NULL;\n",
      "\tElementName = \"1903\";\n",
      "\tEnabledDefault = 3;\n",
      "\tEnabledState = 3;\n",
      "\tEnhancedSessionModeState = 3;\n",
      "\tFailedOverReplicationType = 0;\n",
      "\tHealthState = 5;\n",
      "\tHwThreadsPerCoreRealized = NULL;\n",
      "\tIdentifyingDescriptions = NULL;\n",
      "\tInstallDate = \"20201103092304.232522-000\";\n",
      "\tInstanceID = NULL;\n",
      "\tLastApplicationConsistentReplicationTime = \"16010101000000.000000-000\";\n",
      "\tLastReplicationTime = \"16010101000000.000000-000\";\n",
      "\tLastReplicationType = 0;\n",
      "\tLastSuccessfulBackupTime = NULL;\n",
      "\tName = \"BA701B32-28CE-4A10-AA69-8354B9083BB6\";\n",
      "\tNameFormat = NULL;\n",
      "\tNumberOfNumaNodes = 1;\n",
      "\tOnTimeInMilliseconds = \"0\";\n",
      "\tOperatingStatus = NULL;\n",
      "\tOperationalStatus = {2};\n",
      "\tOtherDedicatedDescriptions = NULL;\n",
      "\tOtherEnabledState = NULL;\n",
      "\tOtherIdentifyingInfo = NULL;\n",
      "\tPowerManagementCapabilities = NULL;\n",
      "\tPrimaryOwnerContact = NULL;\n",
      "\tPrimaryOwnerName = NULL;\n",
      "\tPrimaryStatus = NULL;\n",
      "\tProcessID = NULL;\n",
      "\tReplicationHealth = 0;\n",
      "\tReplicationMode = 0;\n",
      "\tReplicationState = 0;\n",
      "\tRequestedState = 5;\n",
      "\tResetCapability = 1;\n",
      "\tRoles = NULL;\n",
      "\tStatus = \"OK\";\n",
      "\tStatusDescriptions = {\"Operating normally\"};\n",
      "\tTimeOfLastConfigurationChange = \"20201106230839.786403-000\";\n",
      "\tTimeOfLastStateChange = \"20201106230839.785401-000\";\n",
      "\tTransitioningToState = NULL;\n",
      "};\n",
      "\n",
      "\n",
      "instance of Msvm_ComputerSystem\n",
      "{\n",
      "\tAvailableRequestedStates = NULL;\n",
      "\tCaption = \"Virtual Machine\";\n",
      "\tCommunicationStatus = NULL;\n",
      "\tCreationClassName = \"Msvm_ComputerSystem\";\n",
      "\tDedicated = NULL;\n",
      "\tDescription = \"Microsoft Virtual Machine\";\n",
      "\tDetailedStatus = NULL;\n",
      "\tElementName = \"202H\";\n",
      "\tEnabledDefault = 3;\n",
      "\tEnabledState = 3;\n",
      "\tEnhancedSessionModeState = 3;\n",
      "\tFailedOverReplicationType = 0;\n",
      "\tHealthState = 5;\n",
      "\tHwThreadsPerCoreRealized = NULL;\n",
      "\tIdentifyingDescriptions = NULL;\n",
      "\tInstallDate = \"20201028111748.646303-000\";\n",
      "\tInstanceID = NULL;\n",
      "\tLastApplicationConsistentReplicationTime = \"16010101000000.000000-000\";\n",
      "\tLastReplicationTime = \"16010101000000.000000-000\";\n",
      "\tLastReplicationType = 0;\n",
      "\tLastSuccessfulBackupTime = NULL;\n",
      "\tName = \"C30A01E0-7219-4C61-8DBC-A24FD8DDA1CE\";\n",
      "\tNameFormat = NULL;\n",
      "\tNumberOfNumaNodes = 1;\n",
      "\tOnTimeInMilliseconds = \"0\";\n",
      "\tOperatingStatus = NULL;\n",
      "\tOperationalStatus = {2};\n",
      "\tOtherDedicatedDescriptions = NULL;\n",
      "\tOtherEnabledState = NULL;\n",
      "\tOtherIdentifyingInfo = NULL;\n",
      "\tPowerManagementCapabilities = NULL;\n",
      "\tPrimaryOwnerContact = NULL;\n",
      "\tPrimaryOwnerName = NULL;\n",
      "\tPrimaryStatus = NULL;\n",
      "\tProcessID = NULL;\n",
      "\tReplicationHealth = 0;\n",
      "\tReplicationMode = 0;\n",
      "\tReplicationState = 0;\n",
      "\tRequestedState = 5;\n",
      "\tResetCapability = 1;\n",
      "\tRoles = NULL;\n",
      "\tStatus = \"OK\";\n",
      "\tStatusDescriptions = {\"Operating normally\"};\n",
      "\tTimeOfLastConfigurationChange = \"20201107095945.917224-000\";\n",
      "\tTimeOfLastStateChange = \"20201107093113.719880-000\";\n",
      "\tTransitioningToState = NULL;\n",
      "};\n",
      "\n"
     ]
    }
   ],
   "source": [
    "for i in client.Msvm_ComputerSystem(Description = \"Microsoft Virtual Machine\"):\n",
    "    print(i)"
   ]
  },
  {
   "cell_type": "code",
   "execution_count": 13,
   "metadata": {},
   "outputs": [],
   "source": []
  },
  {
   "cell_type": "code",
   "execution_count": 14,
   "metadata": {},
   "outputs": [
    {
     "data": {
      "text/plain": [
       "['CreationClassName', 'Name']"
      ]
     },
     "execution_count": 14,
     "metadata": {},
     "output_type": "execute_result"
    }
   ],
   "source": []
  },
  {
   "cell_type": "code",
   "execution_count": null,
   "metadata": {},
   "outputs": [],
   "source": []
  }
 ],
 "metadata": {
  "kernelspec": {
   "display_name": "Python 3",
   "language": "python",
   "name": "python3"
  },
  "language_info": {
   "codemirror_mode": {
    "name": "ipython",
    "version": 3
   },
   "file_extension": ".py",
   "mimetype": "text/x-python",
   "name": "python",
   "nbconvert_exporter": "python",
   "pygments_lexer": "ipython3",
   "version": "3.7.8"
  }
 },
 "nbformat": 4,
 "nbformat_minor": 4
}
