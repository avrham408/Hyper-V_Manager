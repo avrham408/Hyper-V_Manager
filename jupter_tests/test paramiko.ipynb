{
 "cells": [
  {
   "cell_type": "code",
   "execution_count": 8,
   "metadata": {},
   "outputs": [],
   "source": [
    "import paramiko\n",
    "#https://blog.calsoftinc.com/2017/02/run-commands-remote-windows-machine-using-python-paramiko-module.html"
   ]
  },
  {
   "cell_type": "code",
   "execution_count": 9,
   "metadata": {},
   "outputs": [],
   "source": [
    "client = paramiko.SSHClient()\n",
    "client.set_missing_host_key_policy(paramiko.AutoAddPolicy())\n"
   ]
  },
  {
   "cell_type": "code",
   "execution_count": 10,
   "metadata": {},
   "outputs": [],
   "source": [
    "client.connect(hostname='DESKTOP-8P1LTN5', port=8000,username=\"user\", password=\"Welcome01\")\n"
   ]
  },
  {
   "cell_type": "code",
   "execution_count": 15,
   "metadata": {},
   "outputs": [],
   "source": [
    "stdin, stdout, stderr = client.exec_command(\"cmd /c dir\")"
   ]
  },
  {
   "cell_type": "code",
   "execution_count": 16,
   "metadata": {},
   "outputs": [
    {
     "data": {
      "text/plain": [
       "b' Volume in drive C has no label.\\r\\n Volume Serial Number is A4E5-F655\\r\\n\\r\\n Directory of C:\\\\Users\\\\user\\\\Desktop\\r\\n\\r\\n11/01/2020  09:44 AM    <DIR>          .\\r\\n11/01/2020  09:44 AM    <DIR>          ..\\r\\n11/01/2020  09:24 AM             1,051 FreeSSHd.lnk\\r\\n10/28/2020  05:55 PM             1,446 Microsoft Edge.lnk\\r\\n11/01/2020  09:44 AM    <DIR>          New folder\\r\\n               2 File(s)          2,497 bytes\\r\\n               3 Dir(s)  47,075,606,528 bytes free\\r\\n'"
      ]
     },
     "execution_count": 16,
     "metadata": {},
     "output_type": "execute_result"
    },
    {
     "name": "stderr",
     "output_type": "stream",
     "text": [
      "Socket exception: An existing connection was forcibly closed by the remote host (10054)\n",
      "Socket exception: An existing connection was forcibly closed by the remote host (10054)\n"
     ]
    }
   ],
   "source": [
    "stdout.read()"
   ]
  },
  {
   "cell_type": "code",
   "execution_count": 14,
   "metadata": {},
   "outputs": [
    {
     "data": {
      "text/plain": [
       "<paramiko.Channel 1 (closed) -> <paramiko.Transport at 0x5e3d7ec8 (cipher aes128-ctr, 128 bits) (active; 1 open channel(s))>>"
      ]
     },
     "execution_count": 14,
     "metadata": {},
     "output_type": "execute_result"
    }
   ],
   "source": []
  },
  {
   "cell_type": "code",
   "execution_count": null,
   "metadata": {},
   "outputs": [],
   "source": []
  }
 ],
 "metadata": {
  "kernelspec": {
   "display_name": "Python 3",
   "language": "python",
   "name": "python3"
  },
  "language_info": {
   "codemirror_mode": {
    "name": "ipython",
    "version": 3
   },
   "file_extension": ".py",
   "mimetype": "text/x-python",
   "name": "python",
   "nbconvert_exporter": "python",
   "pygments_lexer": "ipython3",
   "version": "3.7.8"
  }
 },
 "nbformat": 4,
 "nbformat_minor": 4
}
