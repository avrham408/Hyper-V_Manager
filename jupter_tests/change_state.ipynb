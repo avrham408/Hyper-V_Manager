{
 "cells": [
  {
   "cell_type": "code",
   "execution_count": 1,
   "metadata": {},
   "outputs": [],
   "source": [
    "import wmi\n",
    "import platform\n",
    "\n",
    "host = platform.uname()[1]\n",
    "space_name = r\"root\\virtualization\\v2\""
   ]
  },
  {
   "cell_type": "code",
   "execution_count": 2,
   "metadata": {},
   "outputs": [],
   "source": [
    "conn = wmi.connect_server(host, space_name)\n",
    "client = wmi.WMI(wmi=conn)"
   ]
  },
  {
   "cell_type": "markdown",
   "metadata": {},
   "source": [
    "# first"
   ]
  },
  {
   "cell_type": "code",
   "execution_count": 3,
   "metadata": {},
   "outputs": [],
   "source": [
    "vms = client.Msvm_ComputerSystem()"
   ]
  },
  {
   "cell_type": "code",
   "execution_count": 4,
   "metadata": {},
   "outputs": [],
   "source": [
    "pro_1903 = vms[1]"
   ]
  },
  {
   "cell_type": "code",
   "execution_count": 5,
   "metadata": {},
   "outputs": [],
   "source": [
    "before_state = pro_1903.ole_object.GetObjectText_()"
   ]
  },
  {
   "cell_type": "code",
   "execution_count": 6,
   "metadata": {},
   "outputs": [
    {
     "name": "stdout",
     "output_type": "stream",
     "text": [
      "\n",
      "instance of Msvm_ComputerSystem\n",
      "{\n",
      "\tAvailableRequestedStates = NULL;\n",
      "\tCaption = \"Virtual Machine\";\n",
      "\tCommunicationStatus = NULL;\n",
      "\tCreationClassName = \"Msvm_ComputerSystem\";\n",
      "\tDedicated = NULL;\n",
      "\tDescription = \"Microsoft Virtual Machine\";\n",
      "\tDetailedStatus = NULL;\n",
      "\tElementName = \"1903 PRO\";\n",
      "\tEnabledDefault = 3;\n",
      "\tEnabledState = 3;\n",
      "\tEnhancedSessionModeState = 3;\n",
      "\tFailedOverReplicationType = 0;\n",
      "\tHealthState = 5;\n",
      "\tHwThreadsPerCoreRealized = NULL;\n",
      "\tIdentifyingDescriptions = NULL;\n",
      "\tInstallDate = \"20201025210916.045090-000\";\n",
      "\tInstanceID = NULL;\n",
      "\tLastApplicationConsistentReplicationTime = \"16010101000000.000000-000\";\n",
      "\tLastReplicationTime = \"16010101000000.000000-000\";\n",
      "\tLastReplicationType = 0;\n",
      "\tLastSuccessfulBackupTime = NULL;\n",
      "\tName = \"044D1936-9391-408F-9643-9D00C8B9220E\";\n",
      "\tNameFormat = NULL;\n",
      "\tNumberOfNumaNodes = 1;\n",
      "\tOnTimeInMilliseconds = \"0\";\n",
      "\tOperatingStatus = NULL;\n",
      "\tOperationalStatus = {2};\n",
      "\tOtherDedicatedDescriptions = NULL;\n",
      "\tOtherEnabledState = NULL;\n",
      "\tOtherIdentifyingInfo = NULL;\n",
      "\tPowerManagementCapabilities = NULL;\n",
      "\tPrimaryOwnerContact = NULL;\n",
      "\tPrimaryOwnerName = NULL;\n",
      "\tPrimaryStatus = NULL;\n",
      "\tProcessID = NULL;\n",
      "\tReplicationHealth = 0;\n",
      "\tReplicationMode = 0;\n",
      "\tReplicationState = 0;\n",
      "\tRequestedState = 5;\n",
      "\tResetCapability = 1;\n",
      "\tRoles = NULL;\n",
      "\tStatus = \"OK\";\n",
      "\tStatusDescriptions = {\"Operating normally\"};\n",
      "\tTimeOfLastConfigurationChange = \"20201031114947.070210-000\";\n",
      "\tTimeOfLastStateChange = \"20201031114947.069218-000\";\n",
      "\tTransitioningToState = NULL;\n",
      "};\n",
      "\n"
     ]
    }
   ],
   "source": [
    "print(before_state)"
   ]
  },
  {
   "cell_type": "markdown",
   "metadata": {},
   "source": [
    "## turn on "
   ]
  },
  {
   "cell_type": "code",
   "execution_count": 7,
   "metadata": {},
   "outputs": [
    {
     "data": {
      "text/plain": [
       "('\\\\\\\\HY159-AVIW\\\\root\\\\virtualization\\\\v2:Msvm_ConcreteJob.InstanceID=\"CD2AAD3E-1F5A-4E94-BDCF-1C1CDA7BF6E6\"',\n",
       " 4096)"
      ]
     },
     "execution_count": 7,
     "metadata": {},
     "output_type": "execute_result"
    }
   ],
   "source": [
    "pro_1903.RequestStateChange(2)"
   ]
  },
  {
   "cell_type": "markdown",
   "metadata": {},
   "source": [
    "# new_state"
   ]
  },
  {
   "cell_type": "code",
   "execution_count": 9,
   "metadata": {},
   "outputs": [
    {
     "name": "stdout",
     "output_type": "stream",
     "text": [
      "\n",
      "instance of Msvm_ComputerSystem\n",
      "{\n",
      "\tAvailableRequestedStates = NULL;\n",
      "\tCaption = \"Virtual Machine\";\n",
      "\tCommunicationStatus = NULL;\n",
      "\tCreationClassName = \"Msvm_ComputerSystem\";\n",
      "\tDedicated = NULL;\n",
      "\tDescription = \"Microsoft Virtual Machine\";\n",
      "\tDetailedStatus = NULL;\n",
      "\tElementName = \"1903 PRO\";\n",
      "\tEnabledDefault = 3;\n",
      "\tEnabledState = 3;\n",
      "\tEnhancedSessionModeState = 3;\n",
      "\tFailedOverReplicationType = 0;\n",
      "\tHealthState = 5;\n",
      "\tHwThreadsPerCoreRealized = NULL;\n",
      "\tIdentifyingDescriptions = NULL;\n",
      "\tInstallDate = \"20201025210916.045090-000\";\n",
      "\tInstanceID = NULL;\n",
      "\tLastApplicationConsistentReplicationTime = \"16010101000000.000000-000\";\n",
      "\tLastReplicationTime = \"16010101000000.000000-000\";\n",
      "\tLastReplicationType = 0;\n",
      "\tLastSuccessfulBackupTime = NULL;\n",
      "\tName = \"044D1936-9391-408F-9643-9D00C8B9220E\";\n",
      "\tNameFormat = NULL;\n",
      "\tNumberOfNumaNodes = 1;\n",
      "\tOnTimeInMilliseconds = \"0\";\n",
      "\tOperatingStatus = NULL;\n",
      "\tOperationalStatus = {2};\n",
      "\tOtherDedicatedDescriptions = NULL;\n",
      "\tOtherEnabledState = NULL;\n",
      "\tOtherIdentifyingInfo = NULL;\n",
      "\tPowerManagementCapabilities = NULL;\n",
      "\tPrimaryOwnerContact = NULL;\n",
      "\tPrimaryOwnerName = NULL;\n",
      "\tPrimaryStatus = NULL;\n",
      "\tProcessID = NULL;\n",
      "\tReplicationHealth = 0;\n",
      "\tReplicationMode = 0;\n",
      "\tReplicationState = 0;\n",
      "\tRequestedState = 5;\n",
      "\tResetCapability = 1;\n",
      "\tRoles = NULL;\n",
      "\tStatus = \"OK\";\n",
      "\tStatusDescriptions = {\"Operating normally\"};\n",
      "\tTimeOfLastConfigurationChange = \"20201031114947.070210-000\";\n",
      "\tTimeOfLastStateChange = \"20201031114947.069218-000\";\n",
      "\tTransitioningToState = NULL;\n",
      "};\n",
      "\n"
     ]
    }
   ],
   "source": [
    "after_state = pro_1903.ole_object.GetObjectText_()\n",
    "print(after_state)"
   ]
  },
  {
   "cell_type": "code",
   "execution_count": 10,
   "metadata": {},
   "outputs": [
    {
     "data": {
      "text/plain": [
       "True"
      ]
     },
     "execution_count": 10,
     "metadata": {},
     "output_type": "execute_result"
    }
   ],
   "source": [
    "before_state == after_state"
   ]
  },
  {
   "cell_type": "markdown",
   "metadata": {},
   "source": [
    "## new fetch"
   ]
  },
  {
   "cell_type": "code",
   "execution_count": 14,
   "metadata": {},
   "outputs": [],
   "source": [
    "vms = client.Msvm_ComputerSystem()"
   ]
  },
  {
   "cell_type": "code",
   "execution_count": 17,
   "metadata": {},
   "outputs": [],
   "source": [
    "pro_1903 = vms[1]"
   ]
  },
  {
   "cell_type": "code",
   "execution_count": 18,
   "metadata": {},
   "outputs": [
    {
     "name": "stdout",
     "output_type": "stream",
     "text": [
      "\n",
      "instance of Msvm_ComputerSystem\n",
      "{\n",
      "\tAvailableRequestedStates = NULL;\n",
      "\tCaption = \"Virtual Machine\";\n",
      "\tCommunicationStatus = NULL;\n",
      "\tCreationClassName = \"Msvm_ComputerSystem\";\n",
      "\tDedicated = NULL;\n",
      "\tDescription = \"Microsoft Virtual Machine\";\n",
      "\tDetailedStatus = NULL;\n",
      "\tElementName = \"1903 PRO\";\n",
      "\tEnabledDefault = 2;\n",
      "\tEnabledState = 2;\n",
      "\tEnhancedSessionModeState = 6;\n",
      "\tFailedOverReplicationType = 0;\n",
      "\tHealthState = 5;\n",
      "\tHwThreadsPerCoreRealized = 2;\n",
      "\tIdentifyingDescriptions = NULL;\n",
      "\tInstallDate = \"20201025210916.045090-000\";\n",
      "\tInstanceID = NULL;\n",
      "\tLastApplicationConsistentReplicationTime = \"16010101000000.000000-000\";\n",
      "\tLastReplicationTime = \"16010101000000.000000-000\";\n",
      "\tLastReplicationType = 0;\n",
      "\tLastSuccessfulBackupTime = NULL;\n",
      "\tName = \"044D1936-9391-408F-9643-9D00C8B9220E\";\n",
      "\tNameFormat = NULL;\n",
      "\tNumberOfNumaNodes = 1;\n",
      "\tOnTimeInMilliseconds = \"202162\";\n",
      "\tOperatingStatus = NULL;\n",
      "\tOperationalStatus = {2};\n",
      "\tOtherDedicatedDescriptions = NULL;\n",
      "\tOtherEnabledState = NULL;\n",
      "\tOtherIdentifyingInfo = NULL;\n",
      "\tPowerManagementCapabilities = NULL;\n",
      "\tPrimaryOwnerContact = NULL;\n",
      "\tPrimaryOwnerName = NULL;\n",
      "\tPrimaryStatus = NULL;\n",
      "\tProcessID = 21440;\n",
      "\tReplicationHealth = 0;\n",
      "\tReplicationMode = 0;\n",
      "\tReplicationState = 0;\n",
      "\tRequestedState = 5;\n",
      "\tResetCapability = 1;\n",
      "\tRoles = NULL;\n",
      "\tStatus = \"OK\";\n",
      "\tStatusDescriptions = {\"Operating normally\"};\n",
      "\tTimeOfLastConfigurationChange = \"20201031115003.871271-000\";\n",
      "\tTimeOfLastStateChange = \"20201031115003.869272-000\";\n",
      "\tTransitioningToState = NULL;\n",
      "};\n",
      "\n"
     ]
    }
   ],
   "source": [
    "new_fetch_state = pro_1903.ole_object.GetObjectText_()\n",
    "print(new_fetch_state)"
   ]
  },
  {
   "cell_type": "code",
   "execution_count": 21,
   "metadata": {},
   "outputs": [
    {
     "name": "stdout",
     "output_type": "stream",
     "text": [
      "\n",
      "instance of Msvm_ComputerSystem\n",
      "{\n",
      "\tAvailableRequestedStates = NULL;\n",
      "\tCaption = \"Virtual Machine\";\n",
      "\tCommunicationStatus = NULL;\n",
      "\tCreationClassName = \"Msvm_ComputerSystem\";\n",
      "\tDedicated = NULL;\n",
      "\tDescription = \"Microsoft Virtual Machine\";\n",
      "\tDetailedStatus = NULL;\n",
      "\tElementName = \"1903 PRO\";\n",
      "\tEnabledDefault = 3;\n",
      "\tEnabledState = 3;\n",
      "\tEnhancedSessionModeState = 3;\n",
      "\tFailedOverReplicationType = 0;\n",
      "\tHealthState = 5;\n",
      "\tHwThreadsPerCoreRealized = NULL;\n",
      "\tIdentifyingDescriptions = NULL;\n",
      "\tInstallDate = \"20201025210916.045090-000\";\n",
      "\tInstanceID = NULL;\n",
      "\tLastApplicationConsistentReplicationTime = \"16010101000000.000000-000\";\n",
      "\tLastReplicationTime = \"16010101000000.000000-000\";\n",
      "\tLastReplicationType = 0;\n",
      "\tLastSuccessfulBackupTime = NULL;\n",
      "\tName = \"044D1936-9391-408F-9643-9D00C8B9220E\";\n",
      "\tNameFormat = NULL;\n",
      "\tNumberOfNumaNodes = 1;\n",
      "\tOnTimeInMilliseconds = \"0\";\n",
      "\tOperatingStatus = NULL;\n",
      "\tOperationalStatus = {2};\n",
      "\tOtherDedicatedDescriptions = NULL;\n",
      "\tOtherEnabledState = NULL;\n",
      "\tOtherIdentifyingInfo = NULL;\n",
      "\tPowerManagementCapabilities = NULL;\n",
      "\tPrimaryOwnerContact = NULL;\n",
      "\tPrimaryOwnerName = NULL;\n",
      "\tPrimaryStatus = NULL;\n",
      "\tProcessID = NULL;\n",
      "\tReplicationHealth = 0;\n",
      "\tReplicationMode = 0;\n",
      "\tReplicationState = 0;\n",
      "\tRequestedState = 5;\n",
      "\tResetCapability = 1;\n",
      "\tRoles = NULL;\n",
      "\tStatus = \"OK\";\n",
      "\tStatusDescriptions = {\"Operating normally\"};\n",
      "\tTimeOfLastConfigurationChange = \"20201031114947.070210-000\";\n",
      "\tTimeOfLastStateChange = \"20201031114947.069218-000\";\n",
      "\tTransitioningToState = NULL;\n",
      "};\n",
      "\n"
     ]
    }
   ],
   "source": [
    "print(before_state)"
   ]
  },
  {
   "cell_type": "code",
   "execution_count": 30,
   "metadata": {},
   "outputs": [
    {
     "data": {
      "text/plain": [
       "wmi._wmi_object"
      ]
     },
     "execution_count": 30,
     "metadata": {},
     "output_type": "execute_result"
    }
   ],
   "source": [
    "type(pro_1903)"
   ]
  },
  {
   "cell_type": "code",
   "execution_count": 33,
   "metadata": {},
   "outputs": [],
   "source": [
    "res_tup [0= pro_1903.RequestStateChange(3)"
   ]
  },
  {
   "cell_type": "code",
   "execution_count": 37,
   "metadata": {},
   "outputs": [
    {
     "data": {
      "text/plain": [
       "'\\\\\\\\HY159-AVIW\\\\root\\\\virtualization\\\\v2:Msvm_ConcreteJob.InstanceID=\"43C57E44-38E6-4410-AAB5-21B0B42A68F2\"'"
      ]
     },
     "execution_count": 37,
     "metadata": {},
     "output_type": "execute_result"
    }
   ],
   "source": [
    "res_tup[0]"
   ]
  },
  {
   "cell_type": "code",
   "execution_count": 41,
   "metadata": {},
   "outputs": [],
   "source": [
    "win202h = res"
   ]
  },
  {
   "cell_type": "code",
   "execution_count": 43,
   "metadata": {},
   "outputs": [
    {
     "data": {
      "text/plain": [
       "('\\\\\\\\HY159-AVIW\\\\root\\\\virtualization\\\\v2:Msvm_ConcreteJob.InstanceID=\"8203A19F-BB4D-44E0-90C7-8EF49B04701E\"',\n",
       " 4096)"
      ]
     },
     "execution_count": 43,
     "metadata": {},
     "output_type": "execute_result"
    }
   ],
   "source": [
    "win202h.RequestStateChange(2)"
   ]
  },
  {
   "cell_type": "code",
   "execution_count": 44,
   "metadata": {},
   "outputs": [
    {
     "data": {
      "text/plain": [
       "'\\ninstance of Msvm_ComputerSystem\\n{\\n\\tAvailableRequestedStates = NULL;\\n\\tCaption = \"Virtual Machine\";\\n\\tCommunicationStatus = NULL;\\n\\tCreationClassName = \"Msvm_ComputerSystem\";\\n\\tDedicated = NULL;\\n\\tDescription = \"Microsoft Virtual Machine\";\\n\\tDetailedStatus = NULL;\\n\\tElementName = \"1903 PRO\";\\n\\tEnabledDefault = 2;\\n\\tEnabledState = 2;\\n\\tEnhancedSessionModeState = 6;\\n\\tFailedOverReplicationType = 0;\\n\\tHealthState = 5;\\n\\tHwThreadsPerCoreRealized = 2;\\n\\tIdentifyingDescriptions = NULL;\\n\\tInstallDate = \"20201025210916.045090-000\";\\n\\tInstanceID = NULL;\\n\\tLastApplicationConsistentReplicationTime = \"16010101000000.000000-000\";\\n\\tLastReplicationTime = \"16010101000000.000000-000\";\\n\\tLastReplicationType = 0;\\n\\tLastSuccessfulBackupTime = NULL;\\n\\tName = \"044D1936-9391-408F-9643-9D00C8B9220E\";\\n\\tNameFormat = NULL;\\n\\tNumberOfNumaNodes = 1;\\n\\tOnTimeInMilliseconds = \"202162\";\\n\\tOperatingStatus = NULL;\\n\\tOperationalStatus = {2};\\n\\tOtherDedicatedDescriptions = NULL;\\n\\tOtherEnabledState = NULL;\\n\\tOtherIdentifyingInfo = NULL;\\n\\tPowerManagementCapabilities = NULL;\\n\\tPrimaryOwnerContact = NULL;\\n\\tPrimaryOwnerName = NULL;\\n\\tPrimaryStatus = NULL;\\n\\tProcessID = 21440;\\n\\tReplicationHealth = 0;\\n\\tReplicationMode = 0;\\n\\tReplicationState = 0;\\n\\tRequestedState = 5;\\n\\tResetCapability = 1;\\n\\tRoles = NULL;\\n\\tStatus = \"OK\";\\n\\tStatusDescriptions = {\"Operating normally\"};\\n\\tTimeOfLastConfigurationChange = \"20201031115003.871271-000\";\\n\\tTimeOfLastStateChange = \"20201031115003.869272-000\";\\n\\tTransitioningToState = NULL;\\n};\\n'"
      ]
     },
     "execution_count": 44,
     "metadata": {},
     "output_type": "execute_result"
    }
   ],
   "source": []
  },
  {
   "cell_type": "code",
   "execution_count": null,
   "metadata": {},
   "outputs": [],
   "source": []
  }
 ],
 "metadata": {
  "kernelspec": {
   "display_name": "Python 3",
   "language": "python",
   "name": "python3"
  },
  "language_info": {
   "codemirror_mode": {
    "name": "ipython",
    "version": 3
   },
   "file_extension": ".py",
   "mimetype": "text/x-python",
   "name": "python",
   "nbconvert_exporter": "python",
   "pygments_lexer": "ipython3",
   "version": "3.7.8"
  }
 },
 "nbformat": 4,
 "nbformat_minor": 4
}
