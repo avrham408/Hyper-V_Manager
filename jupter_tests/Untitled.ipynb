{
 "cells": [
  {
   "cell_type": "code",
   "execution_count": 1,
   "metadata": {},
   "outputs": [],
   "source": [
    "from infrastructures import wmi_infra\n",
    "from infrastructures import infra_exceptions\n",
    "import platform\n",
    "import wmi\n",
    "\n",
    "host = platform.uname()[1]\n",
    "space_name = r\"root\\virtualization\\v2\"\n",
    "conn = wmi.connect_server(host, space_name)\n",
    "client = wmi.WMI(wmi=conn)"
   ]
  },
  {
   "cell_type": "code",
   "execution_count": 5,
   "metadata": {},
   "outputs": [
    {
     "ename": "AttributeError",
     "evalue": "'list' object has no attribute 'JobState'",
     "output_type": "error",
     "traceback": [
      "\u001b[1;31m---------------------------------------------------------------------------\u001b[0m",
      "\u001b[1;31mAttributeError\u001b[0m                            Traceback (most recent call last)",
      "\u001b[1;32m<ipython-input-5-e376ef507cd6>\u001b[0m in \u001b[0;36m<module>\u001b[1;34m\u001b[0m\n\u001b[1;32m----> 1\u001b[1;33m \u001b[0mwmi_infra\u001b[0m\u001b[1;33m.\u001b[0m\u001b[0mchange_vm_state\u001b[0m\u001b[1;33m(\u001b[0m\u001b[0mclient\u001b[0m\u001b[1;33m,\u001b[0m \u001b[1;34m\"2004 enterprise\"\u001b[0m\u001b[1;33m,\u001b[0m \u001b[0mwmi_infra\u001b[0m\u001b[1;33m.\u001b[0m\u001b[0mVmState\u001b[0m\u001b[1;33m.\u001b[0m\u001b[0mEnabled\u001b[0m\u001b[1;33m.\u001b[0m\u001b[0mvalue\u001b[0m\u001b[1;33m)\u001b[0m\u001b[1;33m\u001b[0m\u001b[1;33m\u001b[0m\u001b[0m\n\u001b[0m",
      "\u001b[1;32mc:\\users\\aviwertheimer\\desktop\\coding\\automation\\infrastructures\\wmi_infra.py\u001b[0m in \u001b[0;36mchange_vm_state\u001b[1;34m(client, vm_name, state)\u001b[0m\n\u001b[0;32m     79\u001b[0m         \u001b[1;32mif\u001b[0m \u001b[0mres_code\u001b[0m \u001b[1;33m==\u001b[0m \u001b[1;36m4096\u001b[0m\u001b[1;33m:\u001b[0m \u001b[1;31m#asyn start\u001b[0m\u001b[1;33m\u001b[0m\u001b[1;33m\u001b[0m\u001b[0m\n\u001b[0;32m     80\u001b[0m                 \u001b[1;31m#check_if_job_succced\u001b[0m\u001b[1;33m\u001b[0m\u001b[1;33m\u001b[0m\u001b[1;33m\u001b[0m\u001b[0m\n\u001b[1;32m---> 81\u001b[1;33m                 \u001b[1;32mif\u001b[0m \u001b[0m__handle_job_response\u001b[0m\u001b[1;33m(\u001b[0m\u001b[0mclient\u001b[0m\u001b[1;33m,\u001b[0m \u001b[0mjob_res\u001b[0m\u001b[1;33m)\u001b[0m\u001b[1;33m:\u001b[0m\u001b[1;33m\u001b[0m\u001b[1;33m\u001b[0m\u001b[0m\n\u001b[0m\u001b[0;32m     82\u001b[0m                         \u001b[1;32mreturn\u001b[0m \u001b[0mvm\u001b[0m\u001b[1;33m\u001b[0m\u001b[1;33m\u001b[0m\u001b[0m\n\u001b[0;32m     83\u001b[0m         \u001b[1;32melse\u001b[0m\u001b[1;33m:\u001b[0m\u001b[1;33m\u001b[0m\u001b[1;33m\u001b[0m\u001b[0m\n",
      "\u001b[1;32mc:\\users\\aviwertheimer\\desktop\\coding\\automation\\infrastructures\\wmi_infra.py\u001b[0m in \u001b[0;36m__handle_job_response\u001b[1;34m(client, job_res)\u001b[0m\n\u001b[0;32m    105\u001b[0m                 \u001b[1;32mraise\u001b[0m \u001b[0minfra_exceptions\u001b[0m\u001b[1;33m.\u001b[0m\u001b[0mJobNotFoundError\u001b[0m\u001b[1;33m(\u001b[0m\u001b[0minstanse_id\u001b[0m\u001b[1;33m)\u001b[0m\u001b[1;33m\u001b[0m\u001b[1;33m\u001b[0m\u001b[0m\n\u001b[0;32m    106\u001b[0m         \u001b[1;32mif\u001b[0m \u001b[0mjob\u001b[0m\u001b[1;33m.\u001b[0m\u001b[0mJobState\u001b[0m \u001b[1;32min\u001b[0m \u001b[1;33m[\u001b[0m\u001b[0mstate\u001b[0m\u001b[1;33m.\u001b[0m\u001b[0mval\u001b[0m \u001b[1;32mfor\u001b[0m \u001b[0mstate\u001b[0m \u001b[1;32min\u001b[0m \u001b[1;33m[\u001b[0m\u001b[0mJobState\u001b[0m\u001b[1;33m.\u001b[0m\u001b[0mNew\u001b[0m\u001b[1;33m,\u001b[0m\u001b[0mJobState\u001b[0m\u001b[1;33m.\u001b[0m\u001b[0mStarting\u001b[0m\u001b[1;33m,\u001b[0m\u001b[0mJobState\u001b[0m\u001b[1;33m.\u001b[0m\u001b[0mRunning\u001b[0m\u001b[1;33m,\u001b[0m\u001b[0mJobState\u001b[0m\u001b[1;33m.\u001b[0m\u001b[0mSuspended\u001b[0m\u001b[1;33m]\u001b[0m\u001b[1;33m]\u001b[0m\u001b[1;33m:\u001b[0m\u001b[1;33m\u001b[0m\u001b[1;33m\u001b[0m\u001b[0m\n\u001b[1;32m--> 107\u001b[1;33m                 \u001b[0mtime\u001b[0m\u001b[1;33m.\u001b[0m\u001b[0msleep\u001b[0m\u001b[1;33m(\u001b[0m\u001b[1;36m0.5\u001b[0m\u001b[1;33m)\u001b[0m\u001b[1;33m\u001b[0m\u001b[1;33m\u001b[0m\u001b[0m\n\u001b[0m\u001b[0;32m    108\u001b[0m                 \u001b[1;31m#log the status\u001b[0m\u001b[1;33m\u001b[0m\u001b[1;33m\u001b[0m\u001b[1;33m\u001b[0m\u001b[0m\n\u001b[0;32m    109\u001b[0m                 \u001b[0m__get_job_status\u001b[0m\u001b[1;33m(\u001b[0m\u001b[0mclient\u001b[0m\u001b[1;33m,\u001b[0m \u001b[0mjob_res\u001b[0m\u001b[1;33m)\u001b[0m\u001b[1;33m\u001b[0m\u001b[1;33m\u001b[0m\u001b[0m\n",
      "\u001b[1;31mAttributeError\u001b[0m: 'list' object has no attribute 'JobState'"
     ]
    }
   ],
   "source": [
    "wmi_infra.change_vm_state(client, \"2004 enterprise\", wmi_infra.VmState.Enabled.value)"
   ]
  },
  {
   "cell_type": "code",
   "execution_count": 13,
   "metadata": {},
   "outputs": [
    {
     "ename": "AttributeError",
     "evalue": "'list' object has no attribute 'JobState'",
     "output_type": "error",
     "traceback": [
      "\u001b[1;31m---------------------------------------------------------------------------\u001b[0m",
      "\u001b[1;31mAttributeError\u001b[0m                            Traceback (most recent call last)",
      "\u001b[1;32m<ipython-input-13-53326c073b13>\u001b[0m in \u001b[0;36m<module>\u001b[1;34m\u001b[0m\n\u001b[0;32m      1\u001b[0m \u001b[0mhost_name\u001b[0m \u001b[1;33m=\u001b[0m \u001b[0mplatform\u001b[0m\u001b[1;33m.\u001b[0m\u001b[0muname\u001b[0m\u001b[1;33m(\u001b[0m\u001b[1;33m)\u001b[0m\u001b[1;33m[\u001b[0m\u001b[1;36m1\u001b[0m\u001b[1;33m]\u001b[0m\u001b[1;33m\u001b[0m\u001b[1;33m\u001b[0m\u001b[0m\n\u001b[0;32m      2\u001b[0m \u001b[0mclient\u001b[0m \u001b[1;33m=\u001b[0m \u001b[0mwmi_infra\u001b[0m\u001b[1;33m.\u001b[0m\u001b[0mconnect_to_wmi\u001b[0m\u001b[1;33m(\u001b[0m\u001b[0mhost_name\u001b[0m\u001b[1;33m,\u001b[0m \u001b[1;34mr\"root\\virtualization\\v2\"\u001b[0m\u001b[1;33m)\u001b[0m\u001b[1;33m\u001b[0m\u001b[1;33m\u001b[0m\u001b[0m\n\u001b[1;32m----> 3\u001b[1;33m \u001b[0mwmi_infra\u001b[0m\u001b[1;33m.\u001b[0m\u001b[0mchange_vm_state\u001b[0m\u001b[1;33m(\u001b[0m\u001b[0mclient\u001b[0m\u001b[1;33m,\u001b[0m \u001b[1;34m\"2004 enterprise\"\u001b[0m\u001b[1;33m,\u001b[0m \u001b[0mwmi_infra\u001b[0m\u001b[1;33m.\u001b[0m\u001b[0mVmState\u001b[0m\u001b[1;33m.\u001b[0m\u001b[0mEnabled\u001b[0m\u001b[1;33m.\u001b[0m\u001b[0mvalue\u001b[0m\u001b[1;33m)\u001b[0m\u001b[1;33m\u001b[0m\u001b[1;33m\u001b[0m\u001b[0m\n\u001b[0m\u001b[0;32m      4\u001b[0m \u001b[0mclient\u001b[0m \u001b[1;33m=\u001b[0m \u001b[0mwmi_infra\u001b[0m\u001b[1;33m.\u001b[0m\u001b[0mconnect_to_wmi\u001b[0m\u001b[1;33m(\u001b[0m\u001b[0mhost_name\u001b[0m\u001b[1;33m,\u001b[0m \u001b[1;34mr\"root\\cimv2\"\u001b[0m\u001b[1;33m)\u001b[0m\u001b[1;33m\u001b[0m\u001b[1;33m\u001b[0m\u001b[0m\n",
      "\u001b[1;32mc:\\users\\aviwertheimer\\desktop\\coding\\automation\\infrastructures\\wmi_infra.py\u001b[0m in \u001b[0;36mchange_vm_state\u001b[1;34m(client, vm_name, state)\u001b[0m\n\u001b[0;32m     79\u001b[0m         \u001b[1;32mexcept\u001b[0m \u001b[0mAttributeError\u001b[0m\u001b[1;33m:\u001b[0m\u001b[1;33m\u001b[0m\u001b[1;33m\u001b[0m\u001b[0m\n\u001b[0;32m     80\u001b[0m                 \u001b[1;31m#log connect to wmi failed\u001b[0m\u001b[1;33m\u001b[0m\u001b[1;33m\u001b[0m\u001b[1;33m\u001b[0m\u001b[0m\n\u001b[1;32m---> 81\u001b[1;33m                 \u001b[1;32mreturn\u001b[0m \u001b[1;32mFalse\u001b[0m\u001b[1;33m\u001b[0m\u001b[1;33m\u001b[0m\u001b[0m\n\u001b[0m\u001b[0;32m     82\u001b[0m         \u001b[0mvm\u001b[0m \u001b[1;33m=\u001b[0m \u001b[0m__get_specific_vm\u001b[0m\u001b[1;33m(\u001b[0m\u001b[0mcomputer_systems\u001b[0m\u001b[1;33m,\u001b[0m \u001b[0mvm_name\u001b[0m\u001b[1;33m)\u001b[0m\u001b[1;33m\u001b[0m\u001b[1;33m\u001b[0m\u001b[0m\n\u001b[0;32m     83\u001b[0m         \u001b[0mjob_res\u001b[0m\u001b[1;33m,\u001b[0m \u001b[0mres_code\u001b[0m \u001b[1;33m=\u001b[0m \u001b[0mvm\u001b[0m\u001b[1;33m.\u001b[0m\u001b[0mRequestStateChange\u001b[0m\u001b[1;33m(\u001b[0m\u001b[0mstate\u001b[0m\u001b[1;33m)\u001b[0m\u001b[1;33m\u001b[0m\u001b[1;33m\u001b[0m\u001b[0m\n",
      "\u001b[1;32mc:\\users\\aviwertheimer\\desktop\\coding\\automation\\infrastructures\\wmi_infra.py\u001b[0m in \u001b[0;36m__handle_job_response\u001b[1;34m(client, job_res)\u001b[0m\n\u001b[0;32m    105\u001b[0m \u001b[1;33m\u001b[0m\u001b[0m\n\u001b[0;32m    106\u001b[0m \u001b[1;32mdef\u001b[0m \u001b[0m__handle_job_response\u001b[0m\u001b[1;33m(\u001b[0m\u001b[0mclient\u001b[0m\u001b[1;33m:\u001b[0m \u001b[0mwmi\u001b[0m\u001b[1;33m.\u001b[0m\u001b[0mWMI\u001b[0m\u001b[1;33m,\u001b[0m \u001b[0mjob_res\u001b[0m\u001b[1;33m:\u001b[0m \u001b[0mstr\u001b[0m\u001b[1;33m)\u001b[0m \u001b[1;33m->\u001b[0m \u001b[0mbool\u001b[0m\u001b[1;33m:\u001b[0m\u001b[1;33m\u001b[0m\u001b[1;33m\u001b[0m\u001b[0m\n\u001b[1;32m--> 107\u001b[1;33m         \u001b[0minstanse_id\u001b[0m \u001b[1;33m=\u001b[0m \u001b[0m__parse_instance_id\u001b[0m\u001b[1;33m(\u001b[0m\u001b[0mjob_res\u001b[0m\u001b[1;33m)\u001b[0m\u001b[1;33m\u001b[0m\u001b[1;33m\u001b[0m\u001b[0m\n\u001b[0m\u001b[0;32m    108\u001b[0m         \u001b[0mjob\u001b[0m \u001b[1;33m=\u001b[0m \u001b[0mclient\u001b[0m\u001b[1;33m.\u001b[0m\u001b[0mMsvm_ConcreteJob\u001b[0m\u001b[1;33m(\u001b[0m\u001b[0mInstanceID\u001b[0m\u001b[1;33m=\u001b[0m\u001b[0minstanse_id\u001b[0m\u001b[1;33m)\u001b[0m\u001b[1;33m[\u001b[0m\u001b[1;36m0\u001b[0m\u001b[1;33m]\u001b[0m\u001b[1;33m\u001b[0m\u001b[1;33m\u001b[0m\u001b[0m\n\u001b[0;32m    109\u001b[0m         \u001b[1;32mif\u001b[0m \u001b[1;32mnot\u001b[0m \u001b[0mjob\u001b[0m\u001b[1;33m:\u001b[0m\u001b[1;33m\u001b[0m\u001b[1;33m\u001b[0m\u001b[0m\n",
      "\u001b[1;31mAttributeError\u001b[0m: 'list' object has no attribute 'JobState'"
     ]
    }
   ],
   "source": [
    "host_name = platform.uname()[1]\n",
    "client = wmi_infra.connect_to_wmi(host_name, r\"root\\virtualization\\v2\")\n",
    "client = wmi_infra.connect_to_wmi(host_name, r\"root\\cimv2\")"
   ]
  },
  {
   "cell_type": "code",
   "execution_count": 16,
   "metadata": {},
   "outputs": [
    {
     "data": {
      "text/plain": [
       "<_wmi_object: b'\\\\\\\\HY159-AVIW\\\\root\\\\virtualization\\\\v2:Msvm_ComputerSystem.CreationClassName=\"Msvm_ComputerSystem\",Name=\"4A13A170-D212-46EB-B8A2-57FFEAFFCDEC\"'>"
      ]
     },
     "execution_count": 16,
     "metadata": {},
     "output_type": "execute_result"
    }
   ],
   "source": [
    "wmi_infra.change_vm_state(client, \"2004 enterprise\", wmi_infra.VmState.Disabled.value)"
   ]
  },
  {
   "cell_type": "code",
   "execution_count": 17,
   "metadata": {},
   "outputs": [],
   "source": [
    "vm = wmi_infra.change_vm_state(client, \"2004 enterprise\", wmi_infra.VmState.Enabled.value)"
   ]
  },
  {
   "cell_type": "code",
   "execution_count": 20,
   "metadata": {},
   "outputs": [],
   "source": []
  },
  {
   "cell_type": "code",
   "execution_count": 4,
   "metadata": {},
   "outputs": [],
   "source": [
    "client = wmi_infra.connect_to_wmi(host, r\"root\\virtualization\\v2\")\n"
   ]
  },
  {
   "cell_type": "code",
   "execution_count": 2,
   "metadata": {},
   "outputs": [],
   "source": [
    "vms = wmi_infra.get_vms(client)"
   ]
  },
  {
   "cell_type": "code",
   "execution_count": 3,
   "metadata": {},
   "outputs": [
    {
     "data": {
      "text/plain": [
       "[{'name': '2004 enterprise',\n",
       "  'state': 'Disabled',\n",
       "  'cpu_usage': 4,\n",
       "  'memory_usage': None,\n",
       "  'up_time': datetime.timedelta(0),\n",
       "  'object': <_wmi_object: b'\\\\\\\\HY159-AVIW\\\\root\\\\virtualization\\\\v2:Msvm_SummaryInformation.InstanceID=\"Microsoft:4A13A170-D212-46EB-B8A2-57FFEAFFCDEC\"'>},\n",
       " {'name': '1909',\n",
       "  'state': 'Disabled',\n",
       "  'cpu_usage': 4,\n",
       "  'memory_usage': None,\n",
       "  'up_time': datetime.timedelta(0),\n",
       "  'object': <_wmi_object: b'\\\\\\\\HY159-AVIW\\\\root\\\\virtualization\\\\v2:Msvm_SummaryInformation.InstanceID=\"Microsoft:5CAE4F2B-EC8C-46F2-946B-D44577BFB0DC\"'>},\n",
       " {'name': '1903',\n",
       "  'state': 'Disabled',\n",
       "  'cpu_usage': 4,\n",
       "  'memory_usage': None,\n",
       "  'up_time': datetime.timedelta(0),\n",
       "  'object': <_wmi_object: b'\\\\\\\\HY159-AVIW\\\\root\\\\virtualization\\\\v2:Msvm_SummaryInformation.InstanceID=\"Microsoft:BA701B32-28CE-4A10-AA69-8354B9083BB6\"'>},\n",
       " {'name': '202H',\n",
       "  'state': 'Disabled',\n",
       "  'cpu_usage': 4,\n",
       "  'memory_usage': None,\n",
       "  'up_time': datetime.timedelta(0),\n",
       "  'object': <_wmi_object: b'\\\\\\\\HY159-AVIW\\\\root\\\\virtualization\\\\v2:Msvm_SummaryInformation.InstanceID=\"Microsoft:C30A01E0-7219-4C61-8DBC-A24FD8DDA1CE\"'>}]"
      ]
     },
     "execution_count": 3,
     "metadata": {},
     "output_type": "execute_result"
    }
   ],
   "source": [
    "vms"
   ]
  },
  {
   "cell_type": "code",
   "execution_count": null,
   "metadata": {},
   "outputs": [],
   "source": []
  }
 ],
 "metadata": {
  "kernelspec": {
   "display_name": "Python 3",
   "language": "python",
   "name": "python3"
  },
  "language_info": {
   "codemirror_mode": {
    "name": "ipython",
    "version": 3
   },
   "file_extension": ".py",
   "mimetype": "text/x-python",
   "name": "python",
   "nbconvert_exporter": "python",
   "pygments_lexer": "ipython3",
   "version": "3.7.8"
  }
 },
 "nbformat": 4,
 "nbformat_minor": 4
}
