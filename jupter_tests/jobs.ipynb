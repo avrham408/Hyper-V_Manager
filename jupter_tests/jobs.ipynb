{
 "cells": [
  {
   "cell_type": "code",
   "execution_count": 2,
   "metadata": {},
   "outputs": [],
   "source": [
    "import wmi\n",
    "import platform\n",
    "\n",
    "host = platform.uname()[1]\n",
    "space_name = r\"root\\virtualization\\v2\""
   ]
  },
  {
   "cell_type": "code",
   "execution_count": 3,
   "metadata": {},
   "outputs": [],
   "source": [
    "conn = wmi.connect_server(host, space_name)\n",
    "client = wmi.WMI(wmi=conn)"
   ]
  },
  {
   "cell_type": "code",
   "execution_count": 15,
   "metadata": {},
   "outputs": [
    {
     "data": {
      "text/plain": [
       "[<_wmi_object: b'\\\\\\\\HY159-AVIW\\\\root\\\\virtualization\\\\v2:Msvm_ConcreteJob.InstanceID=\"3F7E6C31-F66B-45E2-BB24-BBE0BD74931D\"'>]"
      ]
     },
     "execution_count": 15,
     "metadata": {},
     "output_type": "execute_result"
    }
   ],
   "source": [
    "client.Msvm_ConcreteJob(InstanceID=\"3F7E6C31-F66B-45E2-BB24-BBE0BD74931D\")"
   ]
  },
  {
   "cell_type": "code",
   "execution_count": 20,
   "metadata": {},
   "outputs": [],
   "source": [
    "job = x[0]"
   ]
  },
  {
   "cell_type": "code",
   "execution_count": 22,
   "metadata": {},
   "outputs": [
    {
     "name": "stdout",
     "output_type": "stream",
     "text": [
      "\n",
      "instance of Msvm_ConcreteJob\n",
      "{\n",
      "\tCancellable = FALSE;\n",
      "\tCaption = \"Turning Off\";\n",
      "\tCommunicationStatus = NULL;\n",
      "\tDeleteOnCompletion = FALSE;\n",
      "\tDescription = \"Turning Off Virtual Machine\";\n",
      "\tDetailedStatus = NULL;\n",
      "\tElapsedTime = \"00000000000000.195741:000\";\n",
      "\tElementName = \"Turning Off\";\n",
      "\tErrorCode = 0;\n",
      "\tErrorDescription = \"\";\n",
      "\tErrorSummaryDescription = \"\";\n",
      "\tHealthState = 5;\n",
      "\tInstallDate = \"16010101000000.000000-000\";\n",
      "\tInstanceID = \"43C57E44-38E6-4410-AAB5-21B0B42A68F2\";\n",
      "\tJobRunTimes = 1;\n",
      "\tJobState = 7;\n",
      "\tJobStatus = \"Job is completed\";\n",
      "\tJobType = 13;\n",
      "\tLocalOrUtcTime = 2;\n",
      "\tName = \"Turning Off\";\n",
      "\tNotify = \"\";\n",
      "\tOperatingStatus = NULL;\n",
      "\tOperationalStatus = {17, 2};\n",
      "\tOtherRecoveryAction = \"\";\n",
      "\tOwner = \"AzureAD\\\\AviWertheimer\";\n",
      "\tPercentComplete = 100;\n",
      "\tPrimaryStatus = NULL;\n",
      "\tPriority = 0;\n",
      "\tRecoveryAction = 2;\n",
      "\tRunDay = NULL;\n",
      "\tRunDayOfWeek = NULL;\n",
      "\tRunMonth = NULL;\n",
      "\tRunStartInterval = NULL;\n",
      "\tScheduledStartTime = \"20201031123325.000000-000\";\n",
      "\tStartTime = \"20201031123325.000000-000\";\n",
      "\tStatus = \"OK\";\n",
      "\tStatusDescriptions = {\"Job is completed\", \"Job is completed successfully\"};\n",
      "\tTimeBeforeRemoval = \"00000000000500.000000:000\";\n",
      "\tTimeOfLastStateChange = \"20201031123326.000000-000\";\n",
      "\tTimeSubmitted = \"20201031123325.000000-000\";\n",
      "\tUntilTime = NULL;\n",
      "};\n",
      "\n"
     ]
    }
   ],
   "source": [
    "print(job)"
   ]
  },
  {
   "cell_type": "code",
   "execution_count": 24,
   "metadata": {},
   "outputs": [
    {
     "data": {
      "text/plain": [
       "'Job is completed'"
      ]
     },
     "execution_count": 24,
     "metadata": {},
     "output_type": "execute_result"
    }
   ],
   "source": [
    "job.JobStatus"
   ]
  },
  {
   "cell_type": "code",
   "execution_count": 25,
   "metadata": {},
   "outputs": [],
   "source": [
    "no_ram_job = client.Msvm_ConcreteJob(InstanceID=\"8203A19F-BB4D-44E0-90C7-8EF49B04701E\")"
   ]
  },
  {
   "cell_type": "code",
   "execution_count": 28,
   "metadata": {},
   "outputs": [
    {
     "name": "stdout",
     "output_type": "stream",
     "text": [
      "\n",
      "instance of Msvm_ConcreteJob\n",
      "{\n",
      "\tCancellable = TRUE;\n",
      "\tCaption = \"Starting\";\n",
      "\tCommunicationStatus = NULL;\n",
      "\tDeleteOnCompletion = FALSE;\n",
      "\tDescription = \"Initializing and Starting Virtual Machine\";\n",
      "\tDetailedStatus = NULL;\n",
      "\tElapsedTime = \"00000000000000.309851:000\";\n",
      "\tElementName = \"Starting\";\n",
      "\tErrorCode = 32788;\n",
      "\tErrorDescription = \"'202H' failed to start. (Virtual machine ID C30A01E0-7219-4C61-8DBC-A24FD8DDA1CE)\\n\\n'202H' is unable to allocate 7500 MB of RAM: Insufficient system resources exist to complete the requested service. (0x800705AA). (Virtual machine ID C30A01E0-7219-4C61-8DBC-A24FD8DDA1CE)\";\n",
      "\tErrorSummaryDescription = \"'202H' failed to start.\\n\\nUnable to allocate 7500 MB of RAM: Insufficient system resources exist to complete the requested service. (0x800705AA).\";\n",
      "\tHealthState = 5;\n",
      "\tInstallDate = \"16010101000000.000000-000\";\n",
      "\tInstanceID = \"8203A19F-BB4D-44E0-90C7-8EF49B04701E\";\n",
      "\tJobRunTimes = 1;\n",
      "\tJobState = 10;\n",
      "\tJobStatus = \"Job is completed with error\";\n",
      "\tJobType = 12;\n",
      "\tLocalOrUtcTime = 2;\n",
      "\tName = \"Starting\";\n",
      "\tNotify = \"\";\n",
      "\tOperatingStatus = NULL;\n",
      "\tOperationalStatus = {17, 6};\n",
      "\tOtherRecoveryAction = \"\";\n",
      "\tOwner = \"AzureAD\\\\AviWertheimer\";\n",
      "\tPercentComplete = 10;\n",
      "\tPrimaryStatus = NULL;\n",
      "\tPriority = 0;\n",
      "\tRecoveryAction = 2;\n",
      "\tRunDay = NULL;\n",
      "\tRunDayOfWeek = NULL;\n",
      "\tRunMonth = NULL;\n",
      "\tRunStartInterval = NULL;\n",
      "\tScheduledStartTime = \"20201031125627.000000-000\";\n",
      "\tStartTime = \"20201031125627.000000-000\";\n",
      "\tStatus = \"Error\";\n",
      "\tStatusDescriptions = {\"Job is completed\", \"Job is completed with error\"};\n",
      "\tTimeBeforeRemoval = \"00000000000500.000000:000\";\n",
      "\tTimeOfLastStateChange = \"20201031125628.000000-000\";\n",
      "\tTimeSubmitted = \"20201031125627.000000-000\";\n",
      "\tUntilTime = NULL;\n",
      "};\n",
      "\n"
     ]
    }
   ],
   "source": [
    "print(no_ram_job[0])"
   ]
  },
  {
   "cell_type": "code",
   "execution_count": null,
   "metadata": {},
   "outputs": [],
   "source": []
  }
 ],
 "metadata": {
  "kernelspec": {
   "display_name": "Python 3",
   "language": "python",
   "name": "python3"
  },
  "language_info": {
   "codemirror_mode": {
    "name": "ipython",
    "version": 3
   },
   "file_extension": ".py",
   "mimetype": "text/x-python",
   "name": "python",
   "nbconvert_exporter": "python",
   "pygments_lexer": "ipython3",
   "version": "3.7.8"
  }
 },
 "nbformat": 4,
 "nbformat_minor": 4
}
