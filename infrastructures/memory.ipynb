{
 "cells": [
  {
   "cell_type": "code",
   "execution_count": 1,
   "metadata": {},
   "outputs": [],
   "source": [
    "import wmi\n",
    "import platform\n",
    "from infrastructures import wmi_infra\n",
    "\n",
    "host = platform.uname()[1]\n",
    "client = wmi_infra.connect_to_wmi(host, r\"root\\virtualization\\v2\")\n"
   ]
  },
  {
   "cell_type": "code",
   "execution_count": 2,
   "metadata": {},
   "outputs": [
    {
     "data": {
      "text/plain": [
       "[{'name': '2004 enterprise',\n",
       "  'state': 'Disabled',\n",
       "  'cpu_assigned': 4,\n",
       "  'memory_usage': None,\n",
       "  'up_time': datetime.timedelta(0),\n",
       "  'wmi_object': <_wmi_object: b'\\\\\\\\HY159-AVIW\\\\root\\\\virtualization\\\\v2:Msvm_SummaryInformation.InstanceID=\"Microsoft:4A13A170-D212-46EB-B8A2-57FFEAFFCDEC\"'>},\n",
       " {'name': '1909',\n",
       "  'state': 'Disabled',\n",
       "  'cpu_assigned': 4,\n",
       "  'memory_usage': None,\n",
       "  'up_time': datetime.timedelta(0),\n",
       "  'wmi_object': <_wmi_object: b'\\\\\\\\HY159-AVIW\\\\root\\\\virtualization\\\\v2:Msvm_SummaryInformation.InstanceID=\"Microsoft:5CAE4F2B-EC8C-46F2-946B-D44577BFB0DC\"'>},\n",
       " {'name': '1903',\n",
       "  'state': 'Disabled',\n",
       "  'cpu_assigned': 4,\n",
       "  'memory_usage': None,\n",
       "  'up_time': datetime.timedelta(0),\n",
       "  'wmi_object': <_wmi_object: b'\\\\\\\\HY159-AVIW\\\\root\\\\virtualization\\\\v2:Msvm_SummaryInformation.InstanceID=\"Microsoft:BA701B32-28CE-4A10-AA69-8354B9083BB6\"'>},\n",
       " {'name': '202H',\n",
       "  'state': 'Enabled',\n",
       "  'cpu_assigned': 4,\n",
       "  'memory_usage': '1516',\n",
       "  'up_time': datetime.timedelta(seconds=156, microseconds=672000),\n",
       "  'wmi_object': <_wmi_object: b'\\\\\\\\HY159-AVIW\\\\root\\\\virtualization\\\\v2:Msvm_SummaryInformation.InstanceID=\"Microsoft:C30A01E0-7219-4C61-8DBC-A24FD8DDA1CE\"'>}]"
      ]
     },
     "execution_count": 2,
     "metadata": {},
     "output_type": "execute_result"
    }
   ],
   "source": [
    "wmi_infra.get_vms(client)"
   ]
  },
  {
   "cell_type": "code",
   "execution_count": 3,
   "metadata": {},
   "outputs": [],
   "source": [
    "mgmsv = client.Msvm_VirtualSystemManagementService()[0]\n",
    "\n"
   ]
  },
  {
   "cell_type": "code",
   "execution_count": 4,
   "metadata": {},
   "outputs": [],
   "source": [
    "win202h = client.Msvm_ComputerSystem(ElementName=\"202H\")[0]"
   ]
  },
  {
   "cell_type": "code",
   "execution_count": 5,
   "metadata": {},
   "outputs": [],
   "source": [
    "vm_name = win202h.Name "
   ]
  },
  {
   "cell_type": "code",
   "execution_count": 6,
   "metadata": {},
   "outputs": [
    {
     "data": {
      "text/plain": [
       "'C30A01E0-7219-4C61-8DBC-A24FD8DDA1CE'"
      ]
     },
     "execution_count": 6,
     "metadata": {},
     "output_type": "execute_result"
    }
   ],
   "source": [
    "vm_name"
   ]
  },
  {
   "cell_type": "code",
   "execution_count": 7,
   "metadata": {},
   "outputs": [],
   "source": [
    "mem_data = client.Msvm_MemorySettingData()[7]"
   ]
  },
  {
   "cell_type": "code",
   "execution_count": 8,
   "metadata": {},
   "outputs": [
    {
     "name": "stdout",
     "output_type": "stream",
     "text": [
      "\n",
      "instance of Msvm_MemorySettingData\n",
      "{\n",
      "\tAddress = NULL;\n",
      "\tAddressOnParent = NULL;\n",
      "\tAllocationUnits = \"byte * 2^20\";\n",
      "\tAutomaticAllocation = TRUE;\n",
      "\tAutomaticDeallocation = TRUE;\n",
      "\tCaption = \"Memory\";\n",
      "\tConnection = NULL;\n",
      "\tConsumerVisibility = 3;\n",
      "\tDescription = \"Settings for Microsoft Virtual Machine Memory.\";\n",
      "\tDynamicMemoryEnabled = TRUE;\n",
      "\tElementName = \"Memory\";\n",
      "\tHostResource = NULL;\n",
      "\tHugePagesEnabled = FALSE;\n",
      "\tInstanceID = \"Microsoft:C30A01E0-7219-4C61-8DBC-A24FD8DDA1CE\\\\4764334d-e001-4176-82ee-5594ec9b530e\";\n",
      "\tIsVirtualized = TRUE;\n",
      "\tLimit = \"1048576\";\n",
      "\tMappingBehavior = NULL;\n",
      "\tMaxMemoryBlocksPerNumaNode = \"15498\";\n",
      "\tOtherResourceType = NULL;\n",
      "\tParent = NULL;\n",
      "\tPoolID = \"\";\n",
      "\tReservation = \"512\";\n",
      "\tResourceSubType = \"Microsoft:Hyper-V:Memory\";\n",
      "\tResourceType = 4;\n",
      "\tSgxEnabled = FALSE;\n",
      "\tSgxLaunchControlDefault = \"\";\n",
      "\tSgxLaunchControlMode = 0;\n",
      "\tSgxSize = \"0\";\n",
      "\tSwapFilesInUse = FALSE;\n",
      "\tTargetMemoryBuffer = 20;\n",
      "\tVirtualQuantity = \"5000\";\n",
      "\tVirtualQuantityUnits = \"byte * 2^20\";\n",
      "\tWeight = 5000;\n",
      "};\n",
      "\n"
     ]
    }
   ],
   "source": [
    "print(mem_data)"
   ]
  },
  {
   "cell_type": "code",
   "execution_count": 10,
   "metadata": {},
   "outputs": [],
   "source": [
    "mem_data.VirtualQuantity = str(15000)"
   ]
  },
  {
   "cell_type": "code",
   "execution_count": 11,
   "metadata": {},
   "outputs": [],
   "source": [
    "mem_data.DynamicMemoryEnabled = True"
   ]
  },
  {
   "cell_type": "code",
   "execution_count": 12,
   "metadata": {},
   "outputs": [],
   "source": [
    "res = mgmsv.ModifyResourceSettings(ResourceSettings=[mem_data.GetText_(1)])"
   ]
  },
  {
   "cell_type": "code",
   "execution_count": 11,
   "metadata": {},
   "outputs": [],
   "source": []
  },
  {
   "cell_type": "code",
   "execution_count": 13,
   "metadata": {},
   "outputs": [
    {
     "data": {
      "text/plain": [
       "('\\\\\\\\HY159-AVIW\\\\root\\\\virtualization\\\\v2:Msvm_ConcreteJob.InstanceID=\"92C297A8-4925-47CD-99B9-0075EDCDCA81\"',\n",
       " [],\n",
       " 4096)"
      ]
     },
     "execution_count": 13,
     "metadata": {},
     "output_type": "execute_result"
    }
   ],
   "source": [
    "res"
   ]
  },
  {
   "cell_type": "code",
   "execution_count": 13,
   "metadata": {},
   "outputs": [],
   "source": [
    "job = \"6FD9A0DE-410A-4324-9804-2BD92B5E26C3\""
   ]
  },
  {
   "cell_type": "code",
   "execution_count": 65,
   "metadata": {},
   "outputs": [],
   "source": [
    "j = client.Msvm_ConcreteJob(InstanceID=job)[0]"
   ]
  },
  {
   "cell_type": "code",
   "execution_count": 18,
   "metadata": {},
   "outputs": [
    {
     "ename": "JobFailedError",
     "evalue": "'202H' failed to modify device 'Memory'. (Virtual machine ID C30A01E0-7219-4C61-8DBC-A24FD8DDA1CE)\n\nInvalid startup memory assigned for '202H'. The maximum amount of memory you can assign to this virtual machine is '1048576' MB. (Virtual machine ID C30A01E0-7219-4C61-8DBC-A24FD8DDA1CE)",
     "output_type": "error",
     "traceback": [
      "\u001b[1;31m---------------------------------------------------------------------------\u001b[0m",
      "\u001b[1;31mJobFailedError\u001b[0m                            Traceback (most recent call last)",
      "\u001b[1;32m<ipython-input-18-294c90607f63>\u001b[0m in \u001b[0;36m<module>\u001b[1;34m\u001b[0m\n\u001b[1;32m----> 1\u001b[1;33m \u001b[0mwmi_infra\u001b[0m\u001b[1;33m.\u001b[0m\u001b[0mset_vm_memory\u001b[0m\u001b[1;33m(\u001b[0m\u001b[0mclient\u001b[0m\u001b[1;33m,\u001b[0m \u001b[1;34m\"202H\"\u001b[0m\u001b[1;33m,\u001b[0m \u001b[1;36m3200000\u001b[0m\u001b[1;33m)\u001b[0m\u001b[1;33m\u001b[0m\u001b[1;33m\u001b[0m\u001b[0m\n\u001b[0m",
      "\u001b[1;32mc:\\users\\aviwertheimer\\desktop\\coding\\automation\\infrastructures\\wmi_infra.py\u001b[0m in \u001b[0;36mset_vm_memory\u001b[1;34m(client, vm_name, ram, dynamic)\u001b[0m\n\u001b[0;32m    136\u001b[0m                 \u001b[1;32mreturn\u001b[0m \u001b[1;32mTrue\u001b[0m\u001b[1;33m\u001b[0m\u001b[1;33m\u001b[0m\u001b[0m\n\u001b[0;32m    137\u001b[0m         \u001b[1;32melif\u001b[0m \u001b[0mrc\u001b[0m \u001b[1;33m==\u001b[0m \u001b[0mMemoryChangeRc\u001b[0m\u001b[1;33m.\u001b[0m\u001b[0mJob_Started\u001b[0m\u001b[1;33m.\u001b[0m\u001b[0mvalue\u001b[0m\u001b[1;33m:\u001b[0m\u001b[1;33m\u001b[0m\u001b[1;33m\u001b[0m\u001b[0m\n\u001b[1;32m--> 138\u001b[1;33m                 \u001b[0m__handle_job_response\u001b[0m\u001b[1;33m(\u001b[0m\u001b[0mclient\u001b[0m\u001b[1;33m,\u001b[0m \u001b[0mjob\u001b[0m\u001b[1;33m)\u001b[0m\u001b[1;33m\u001b[0m\u001b[1;33m\u001b[0m\u001b[0m\n\u001b[0m\u001b[0;32m    139\u001b[0m         \u001b[1;32melse\u001b[0m\u001b[1;33m:\u001b[0m\u001b[1;33m\u001b[0m\u001b[1;33m\u001b[0m\u001b[0m\n\u001b[0;32m    140\u001b[0m                 \u001b[1;32mraise\u001b[0m \u001b[0minfra_exceptions\u001b[0m\u001b[1;33m.\u001b[0m\u001b[0mModifyVmError\u001b[0m\u001b[1;33m(\u001b[0m\u001b[1;34mf\"change memory return with rc {rc} name = {MemoryChangeRc(rc).name}\"\u001b[0m\u001b[1;33m)\u001b[0m\u001b[1;33m\u001b[0m\u001b[1;33m\u001b[0m\u001b[0m\n",
      "\u001b[1;32mc:\\users\\aviwertheimer\\desktop\\coding\\automation\\infrastructures\\wmi_infra.py\u001b[0m in \u001b[0;36m__handle_job_response\u001b[1;34m(client, job_res)\u001b[0m\n\u001b[0;32m    155\u001b[0m \u001b[1;33m\u001b[0m\u001b[0m\n\u001b[0;32m    156\u001b[0m         \u001b[1;32melif\u001b[0m \u001b[0mjob\u001b[0m\u001b[1;33m.\u001b[0m\u001b[0mJobState\u001b[0m \u001b[1;33m==\u001b[0m \u001b[0mJobState\u001b[0m\u001b[1;33m.\u001b[0m\u001b[0mJob_Exception\u001b[0m\u001b[1;33m.\u001b[0m\u001b[0mvalue\u001b[0m\u001b[1;33m:\u001b[0m\u001b[1;33m\u001b[0m\u001b[1;33m\u001b[0m\u001b[0m\n\u001b[1;32m--> 157\u001b[1;33m                 \u001b[1;32mraise\u001b[0m \u001b[0minfra_exceptions\u001b[0m\u001b[1;33m.\u001b[0m\u001b[0mJobFailedError\u001b[0m\u001b[1;33m(\u001b[0m\u001b[0mjob\u001b[0m\u001b[1;33m.\u001b[0m\u001b[0mErrorDescription\u001b[0m\u001b[1;33m)\u001b[0m\u001b[1;33m\u001b[0m\u001b[1;33m\u001b[0m\u001b[0m\n\u001b[0m\u001b[0;32m    158\u001b[0m \u001b[1;33m\u001b[0m\u001b[0m\n\u001b[0;32m    159\u001b[0m         \u001b[1;32melif\u001b[0m \u001b[0mjob\u001b[0m\u001b[1;33m.\u001b[0m\u001b[0mJobState\u001b[0m \u001b[1;33m==\u001b[0m \u001b[0mJobState\u001b[0m\u001b[1;33m.\u001b[0m\u001b[0mCompleted\u001b[0m\u001b[1;33m.\u001b[0m\u001b[0mvalue\u001b[0m\u001b[1;33m:\u001b[0m\u001b[1;33m\u001b[0m\u001b[1;33m\u001b[0m\u001b[0m\n",
      "\u001b[1;31mJobFailedError\u001b[0m: '202H' failed to modify device 'Memory'. (Virtual machine ID C30A01E0-7219-4C61-8DBC-A24FD8DDA1CE)\n\nInvalid startup memory assigned for '202H'. The maximum amount of memory you can assign to this virtual machine is '1048576' MB. (Virtual machine ID C30A01E0-7219-4C61-8DBC-A24FD8DDA1CE)"
     ]
    }
   ],
   "source": [
    "wmi_infra.set_vm_memory(client, \"202H\", 3200000)"
   ]
  },
  {
   "cell_type": "code",
   "execution_count": 19,
   "metadata": {},
   "outputs": [
    {
     "ename": "AttributeError",
     "evalue": "<unknown>.classesMsvm_VirtualSystemManagementServiceSettingData",
     "output_type": "error",
     "traceback": [
      "\u001b[1;31m---------------------------------------------------------------------------\u001b[0m",
      "\u001b[1;31mcom_error\u001b[0m                                 Traceback (most recent call last)",
      "\u001b[1;32mc:\\program files\\python37\\lib\\site-packages\\wmi.py\u001b[0m in \u001b[0;36m__getattr__\u001b[1;34m(self, attribute)\u001b[0m\n\u001b[0;32m   1208\u001b[0m         \u001b[1;32mtry\u001b[0m\u001b[1;33m:\u001b[0m\u001b[1;33m\u001b[0m\u001b[1;33m\u001b[0m\u001b[0m\n\u001b[1;32m-> 1209\u001b[1;33m             \u001b[1;32mreturn\u001b[0m \u001b[0mself\u001b[0m\u001b[1;33m.\u001b[0m\u001b[0m_cached_classes\u001b[0m\u001b[1;33m(\u001b[0m\u001b[0mattribute\u001b[0m\u001b[1;33m)\u001b[0m\u001b[1;33m\u001b[0m\u001b[1;33m\u001b[0m\u001b[0m\n\u001b[0m\u001b[0;32m   1210\u001b[0m         \u001b[1;32mexcept\u001b[0m \u001b[0mpywintypes\u001b[0m\u001b[1;33m.\u001b[0m\u001b[0mcom_error\u001b[0m\u001b[1;33m:\u001b[0m\u001b[1;33m\u001b[0m\u001b[1;33m\u001b[0m\u001b[0m\n",
      "\u001b[1;32mc:\\program files\\python37\\lib\\site-packages\\wmi.py\u001b[0m in \u001b[0;36m_cached_classes\u001b[1;34m(self, class_name)\u001b[0m\n\u001b[0;32m   1219\u001b[0m         \u001b[1;32mif\u001b[0m \u001b[0mclass_name\u001b[0m \u001b[1;32mnot\u001b[0m \u001b[1;32min\u001b[0m \u001b[0mself\u001b[0m\u001b[1;33m.\u001b[0m\u001b[0m_classes_map\u001b[0m\u001b[1;33m:\u001b[0m\u001b[1;33m\u001b[0m\u001b[1;33m\u001b[0m\u001b[0m\n\u001b[1;32m-> 1220\u001b[1;33m             \u001b[0mself\u001b[0m\u001b[1;33m.\u001b[0m\u001b[0m_classes_map\u001b[0m\u001b[1;33m[\u001b[0m\u001b[0mclass_name\u001b[0m\u001b[1;33m]\u001b[0m \u001b[1;33m=\u001b[0m \u001b[0m_wmi_class\u001b[0m\u001b[1;33m(\u001b[0m\u001b[0mself\u001b[0m\u001b[1;33m,\u001b[0m \u001b[0mself\u001b[0m\u001b[1;33m.\u001b[0m\u001b[0m_namespace\u001b[0m\u001b[1;33m.\u001b[0m\u001b[0mGet\u001b[0m\u001b[1;33m(\u001b[0m\u001b[0mclass_name\u001b[0m\u001b[1;33m)\u001b[0m\u001b[1;33m)\u001b[0m\u001b[1;33m\u001b[0m\u001b[1;33m\u001b[0m\u001b[0m\n\u001b[0m\u001b[0;32m   1221\u001b[0m         \u001b[1;32mreturn\u001b[0m \u001b[0mself\u001b[0m\u001b[1;33m.\u001b[0m\u001b[0m_classes_map\u001b[0m\u001b[1;33m[\u001b[0m\u001b[0mclass_name\u001b[0m\u001b[1;33m]\u001b[0m\u001b[1;33m\u001b[0m\u001b[1;33m\u001b[0m\u001b[0m\n",
      "\u001b[1;32m~\\AppData\\Roaming\\Python\\Python37\\site-packages\\win32com\\client\\dynamic.py\u001b[0m in \u001b[0;36mGet\u001b[1;34m(self, strObjectPath, iFlags, objWbemNamedValueSet)\u001b[0m\n",
      "\u001b[1;32m~\\AppData\\Roaming\\Python\\Python37\\site-packages\\win32com\\client\\dynamic.py\u001b[0m in \u001b[0;36m_ApplyTypes_\u001b[1;34m(self, dispid, wFlags, retType, argTypes, user, resultCLSID, *args)\u001b[0m\n\u001b[0;32m    286\u001b[0m         \u001b[1;32mdef\u001b[0m \u001b[0m_ApplyTypes_\u001b[0m\u001b[1;33m(\u001b[0m\u001b[0mself\u001b[0m\u001b[1;33m,\u001b[0m \u001b[0mdispid\u001b[0m\u001b[1;33m,\u001b[0m \u001b[0mwFlags\u001b[0m\u001b[1;33m,\u001b[0m \u001b[0mretType\u001b[0m\u001b[1;33m,\u001b[0m \u001b[0margTypes\u001b[0m\u001b[1;33m,\u001b[0m \u001b[0muser\u001b[0m\u001b[1;33m,\u001b[0m \u001b[0mresultCLSID\u001b[0m\u001b[1;33m,\u001b[0m \u001b[1;33m*\u001b[0m\u001b[0margs\u001b[0m\u001b[1;33m)\u001b[0m\u001b[1;33m:\u001b[0m\u001b[1;33m\u001b[0m\u001b[1;33m\u001b[0m\u001b[0m\n\u001b[1;32m--> 287\u001b[1;33m                 \u001b[0mresult\u001b[0m \u001b[1;33m=\u001b[0m \u001b[0mself\u001b[0m\u001b[1;33m.\u001b[0m\u001b[0m_oleobj_\u001b[0m\u001b[1;33m.\u001b[0m\u001b[0mInvokeTypes\u001b[0m\u001b[1;33m(\u001b[0m\u001b[1;33m*\u001b[0m\u001b[1;33m(\u001b[0m\u001b[0mdispid\u001b[0m\u001b[1;33m,\u001b[0m \u001b[0mLCID\u001b[0m\u001b[1;33m,\u001b[0m \u001b[0mwFlags\u001b[0m\u001b[1;33m,\u001b[0m \u001b[0mretType\u001b[0m\u001b[1;33m,\u001b[0m \u001b[0margTypes\u001b[0m\u001b[1;33m)\u001b[0m \u001b[1;33m+\u001b[0m \u001b[0margs\u001b[0m\u001b[1;33m)\u001b[0m\u001b[1;33m\u001b[0m\u001b[1;33m\u001b[0m\u001b[0m\n\u001b[0m\u001b[0;32m    288\u001b[0m                 \u001b[1;32mreturn\u001b[0m \u001b[0mself\u001b[0m\u001b[1;33m.\u001b[0m\u001b[0m_get_good_object_\u001b[0m\u001b[1;33m(\u001b[0m\u001b[0mresult\u001b[0m\u001b[1;33m,\u001b[0m \u001b[0muser\u001b[0m\u001b[1;33m,\u001b[0m \u001b[0mresultCLSID\u001b[0m\u001b[1;33m)\u001b[0m\u001b[1;33m\u001b[0m\u001b[1;33m\u001b[0m\u001b[0m\n",
      "\u001b[1;31mcom_error\u001b[0m: (-2147352567, 'Exception occurred.', (0, 'SWbemServicesEx', 'Not found ', None, 0, -2147217406), None)",
      "\nDuring handling of the above exception, another exception occurred:\n",
      "\u001b[1;31mAttributeError\u001b[0m                            Traceback (most recent call last)",
      "\u001b[1;32m<ipython-input-19-831b099b743b>\u001b[0m in \u001b[0;36m<module>\u001b[1;34m\u001b[0m\n\u001b[1;32m----> 1\u001b[1;33m \u001b[0mclient\u001b[0m\u001b[1;33m.\u001b[0m\u001b[0mclassesMsvm_VirtualSystemManagementServiceSettingData\u001b[0m\u001b[1;33m\u001b[0m\u001b[1;33m\u001b[0m\u001b[0m\n\u001b[0m",
      "\u001b[1;32mc:\\program files\\python37\\lib\\site-packages\\wmi.py\u001b[0m in \u001b[0;36m__getattr__\u001b[1;34m(self, attribute)\u001b[0m\n\u001b[0;32m   1209\u001b[0m             \u001b[1;32mreturn\u001b[0m \u001b[0mself\u001b[0m\u001b[1;33m.\u001b[0m\u001b[0m_cached_classes\u001b[0m\u001b[1;33m(\u001b[0m\u001b[0mattribute\u001b[0m\u001b[1;33m)\u001b[0m\u001b[1;33m\u001b[0m\u001b[1;33m\u001b[0m\u001b[0m\n\u001b[0;32m   1210\u001b[0m         \u001b[1;32mexcept\u001b[0m \u001b[0mpywintypes\u001b[0m\u001b[1;33m.\u001b[0m\u001b[0mcom_error\u001b[0m\u001b[1;33m:\u001b[0m\u001b[1;33m\u001b[0m\u001b[1;33m\u001b[0m\u001b[0m\n\u001b[1;32m-> 1211\u001b[1;33m             \u001b[1;32mreturn\u001b[0m \u001b[0mgetattr\u001b[0m\u001b[1;33m(\u001b[0m\u001b[0mself\u001b[0m\u001b[1;33m.\u001b[0m\u001b[0m_namespace\u001b[0m\u001b[1;33m,\u001b[0m \u001b[0mattribute\u001b[0m\u001b[1;33m)\u001b[0m\u001b[1;33m\u001b[0m\u001b[1;33m\u001b[0m\u001b[0m\n\u001b[0m\u001b[0;32m   1212\u001b[0m \u001b[1;33m\u001b[0m\u001b[0m\n\u001b[0;32m   1213\u001b[0m     \u001b[1;32mdef\u001b[0m \u001b[0m_cached_classes\u001b[0m\u001b[1;33m(\u001b[0m\u001b[0mself\u001b[0m\u001b[1;33m,\u001b[0m \u001b[0mclass_name\u001b[0m\u001b[1;33m)\u001b[0m\u001b[1;33m:\u001b[0m\u001b[1;33m\u001b[0m\u001b[1;33m\u001b[0m\u001b[0m\n",
      "\u001b[1;32m~\\AppData\\Roaming\\Python\\Python37\\site-packages\\win32com\\client\\dynamic.py\u001b[0m in \u001b[0;36m__getattr__\u001b[1;34m(self, attr)\u001b[0m\n\u001b[0;32m    525\u001b[0m \u001b[1;33m\u001b[0m\u001b[0m\n\u001b[0;32m    526\u001b[0m                 \u001b[1;31m# no where else to look.\u001b[0m\u001b[1;33m\u001b[0m\u001b[1;33m\u001b[0m\u001b[1;33m\u001b[0m\u001b[0m\n\u001b[1;32m--> 527\u001b[1;33m                 \u001b[1;32mraise\u001b[0m \u001b[0mAttributeError\u001b[0m\u001b[1;33m(\u001b[0m\u001b[1;34m\"%s.%s\"\u001b[0m \u001b[1;33m%\u001b[0m \u001b[1;33m(\u001b[0m\u001b[0mself\u001b[0m\u001b[1;33m.\u001b[0m\u001b[0m_username_\u001b[0m\u001b[1;33m,\u001b[0m \u001b[0mattr\u001b[0m\u001b[1;33m)\u001b[0m\u001b[1;33m)\u001b[0m\u001b[1;33m\u001b[0m\u001b[1;33m\u001b[0m\u001b[0m\n\u001b[0m\u001b[0;32m    528\u001b[0m \u001b[1;33m\u001b[0m\u001b[0m\n\u001b[0;32m    529\u001b[0m         \u001b[1;32mdef\u001b[0m \u001b[0m__setattr__\u001b[0m\u001b[1;33m(\u001b[0m\u001b[0mself\u001b[0m\u001b[1;33m,\u001b[0m \u001b[0mattr\u001b[0m\u001b[1;33m,\u001b[0m \u001b[0mvalue\u001b[0m\u001b[1;33m)\u001b[0m\u001b[1;33m:\u001b[0m\u001b[1;33m\u001b[0m\u001b[1;33m\u001b[0m\u001b[0m\n",
      "\u001b[1;31mAttributeError\u001b[0m: <unknown>.classesMsvm_VirtualSystemManagementServiceSettingData"
     ]
    }
   ],
   "source": [
    "client.classesMsvm_VirtualSystemManagementServiceSettingData"
   ]
  },
  {
   "cell_type": "code",
   "execution_count": null,
   "metadata": {},
   "outputs": [],
   "source": []
  }
 ],
 "metadata": {
  "kernelspec": {
   "display_name": "Python 3",
   "language": "python",
   "name": "python3"
  },
  "language_info": {
   "codemirror_mode": {
    "name": "ipython",
    "version": 3
   },
   "file_extension": ".py",
   "mimetype": "text/x-python",
   "name": "python",
   "nbconvert_exporter": "python",
   "pygments_lexer": "ipython3",
   "version": "3.7.8"
  }
 },
 "nbformat": 4,
 "nbformat_minor": 4
}
