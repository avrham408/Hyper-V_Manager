{
 "cells": [
  {
   "cell_type": "code",
   "execution_count": 1,
   "metadata": {},
   "outputs": [],
   "source": [
    "from infrastructures import wmi_infra\n",
    "from infrastructures import infra_exceptions\n",
    "import platform\n",
    "import wmi\n",
    "\n",
    "host = platform.uname()[1]\n",
    "space_name = r\"root\\virtualization\\v2\"\n",
    "conn = wmi.connect_server(host, space_name)\n",
    "client = wmi.WMI(wmi=conn)"
   ]
  },
  {
   "cell_type": "code",
   "execution_count": 2,
   "metadata": {},
   "outputs": [
    {
     "name": "stdout",
     "output_type": "stream",
     "text": [
      "\\\\HY159-AVIW\\root\\virtualization\\v2:Msvm_ConcreteJob.InstanceID=\"1A590D26-D1DA-42DE-916B-4E97AE936490\"\n"
     ]
    },
    {
     "ename": "JobNotFoundError",
     "evalue": "A590D26-D1DA-42DE-916B-4E97AE936490",
     "output_type": "error",
     "traceback": [
      "\u001b[1;31m---------------------------------------------------------------------------\u001b[0m",
      "\u001b[1;31mJobNotFoundError\u001b[0m                          Traceback (most recent call last)",
      "\u001b[1;32m<ipython-input-2-e376ef507cd6>\u001b[0m in \u001b[0;36m<module>\u001b[1;34m\u001b[0m\n\u001b[1;32m----> 1\u001b[1;33m \u001b[0mwmi_infra\u001b[0m\u001b[1;33m.\u001b[0m\u001b[0mchange_vm_state\u001b[0m\u001b[1;33m(\u001b[0m\u001b[0mclient\u001b[0m\u001b[1;33m,\u001b[0m \u001b[1;34m\"2004 enterprise\"\u001b[0m\u001b[1;33m,\u001b[0m \u001b[0mwmi_infra\u001b[0m\u001b[1;33m.\u001b[0m\u001b[0mVmState\u001b[0m\u001b[1;33m.\u001b[0m\u001b[0mEnabled\u001b[0m\u001b[1;33m.\u001b[0m\u001b[0mvalue\u001b[0m\u001b[1;33m)\u001b[0m\u001b[1;33m\u001b[0m\u001b[1;33m\u001b[0m\u001b[0m\n\u001b[0m",
      "\u001b[1;32mc:\\users\\aviwertheimer\\desktop\\coding\\automation\\infrastructures\\wmi_infra.py\u001b[0m in \u001b[0;36mchange_vm_state\u001b[1;34m(client, vm_name, state)\u001b[0m\n\u001b[0;32m     79\u001b[0m         \u001b[1;32mif\u001b[0m \u001b[0mres_code\u001b[0m \u001b[1;33m==\u001b[0m \u001b[1;36m4096\u001b[0m\u001b[1;33m:\u001b[0m \u001b[1;31m#asyn start\u001b[0m\u001b[1;33m\u001b[0m\u001b[1;33m\u001b[0m\u001b[0m\n\u001b[0;32m     80\u001b[0m                 \u001b[1;31m#check_if_job_succced\u001b[0m\u001b[1;33m\u001b[0m\u001b[1;33m\u001b[0m\u001b[1;33m\u001b[0m\u001b[0m\n\u001b[1;32m---> 81\u001b[1;33m                 \u001b[1;32mif\u001b[0m \u001b[0m__handle_job_response\u001b[0m\u001b[1;33m(\u001b[0m\u001b[0mclient\u001b[0m\u001b[1;33m,\u001b[0m \u001b[0mjob_res\u001b[0m\u001b[1;33m)\u001b[0m\u001b[1;33m:\u001b[0m\u001b[1;33m\u001b[0m\u001b[1;33m\u001b[0m\u001b[0m\n\u001b[0m\u001b[0;32m     82\u001b[0m                         \u001b[1;32mreturn\u001b[0m \u001b[0mvm\u001b[0m\u001b[1;33m\u001b[0m\u001b[1;33m\u001b[0m\u001b[0m\n\u001b[0;32m     83\u001b[0m         \u001b[1;32melse\u001b[0m\u001b[1;33m:\u001b[0m\u001b[1;33m\u001b[0m\u001b[1;33m\u001b[0m\u001b[0m\n",
      "\u001b[1;32mc:\\users\\aviwertheimer\\desktop\\coding\\automation\\infrastructures\\wmi_infra.py\u001b[0m in \u001b[0;36m__handle_job_response\u001b[1;34m(client, job_res)\u001b[0m\n\u001b[0;32m    104\u001b[0m \u001b[1;33m\u001b[0m\u001b[0m\n\u001b[0;32m    105\u001b[0m         \u001b[1;32mif\u001b[0m \u001b[1;32mnot\u001b[0m \u001b[0mjob\u001b[0m\u001b[1;33m:\u001b[0m\u001b[1;33m\u001b[0m\u001b[1;33m\u001b[0m\u001b[0m\n\u001b[1;32m--> 106\u001b[1;33m                 \u001b[1;32mraise\u001b[0m \u001b[0minfra_exceptions\u001b[0m\u001b[1;33m.\u001b[0m\u001b[0mJobNotFoundError\u001b[0m\u001b[1;33m(\u001b[0m\u001b[0minstanse_id\u001b[0m\u001b[1;33m)\u001b[0m\u001b[1;33m\u001b[0m\u001b[1;33m\u001b[0m\u001b[0m\n\u001b[0m\u001b[0;32m    107\u001b[0m         \u001b[1;32mif\u001b[0m \u001b[0mjob\u001b[0m\u001b[1;33m.\u001b[0m\u001b[0mJobState\u001b[0m \u001b[1;32min\u001b[0m \u001b[1;33m[\u001b[0m\u001b[0mJobState\u001b[0m\u001b[1;33m.\u001b[0m\u001b[0mNew\u001b[0m\u001b[1;33m.\u001b[0m\u001b[0mval\u001b[0m\u001b[1;33m,\u001b[0m \u001b[0mJobState\u001b[0m\u001b[1;33m.\u001b[0m\u001b[0mStarting\u001b[0m\u001b[1;33m.\u001b[0m\u001b[0mval\u001b[0m\u001b[1;33m,\u001b[0m \u001b[0mJobState\u001b[0m\u001b[1;33m.\u001b[0m\u001b[0mRunning\u001b[0m\u001b[1;33m.\u001b[0m\u001b[0mval\u001b[0m\u001b[1;33m,\u001b[0m \u001b[0mJobState\u001b[0m\u001b[1;33m.\u001b[0m\u001b[0mSuspended\u001b[0m\u001b[1;33m.\u001b[0m\u001b[0mval\u001b[0m\u001b[1;33m]\u001b[0m\u001b[1;33m:\u001b[0m\u001b[1;33m\u001b[0m\u001b[1;33m\u001b[0m\u001b[0m\n\u001b[0;32m    108\u001b[0m                 \u001b[0mtime\u001b[0m\u001b[1;33m.\u001b[0m\u001b[0msleep\u001b[0m\u001b[1;33m(\u001b[0m\u001b[1;36m0.5\u001b[0m\u001b[1;33m)\u001b[0m\u001b[1;33m\u001b[0m\u001b[1;33m\u001b[0m\u001b[0m\n",
      "\u001b[1;31mJobNotFoundError\u001b[0m: A590D26-D1DA-42DE-916B-4E97AE936490"
     ]
    }
   ],
   "source": [
    "wmi_infra.change_vm_state(client, \"2004 enterprise\", wmi_infra.VmState.Enabled.value)"
   ]
  },
  {
   "cell_type": "code",
   "execution_count": null,
   "metadata": {},
   "outputs": [],
   "source": [
    "client.Msvm_ConcreteJob(instanseID=\"A590D26-D1DA-42DE-916B-4E97AE936490\")"
   ]
  },
  {
   "cell_type": "code",
   "execution_count": 5,
   "metadata": {},
   "outputs": [
    {
     "data": {
      "text/plain": [
       "[<_wmi_object: b'\\\\\\\\HY159-AVIW\\\\root\\\\virtualization\\\\v2:Msvm_ConcreteJob.InstanceID=\"1A590D26-D1DA-42DE-916B-4E97AE936490\"'>,\n",
       " <_wmi_object: b'\\\\\\\\HY159-AVIW\\\\root\\\\virtualization\\\\v2:Msvm_ConcreteJob.InstanceID=\"1DF30925-55D2-400E-A56D-CB44E0DB88AB\"'>,\n",
       " <_wmi_object: b'\\\\\\\\HY159-AVIW\\\\root\\\\virtualization\\\\v2:Msvm_ConcreteJob.InstanceID=\"8594B57D-9765-4123-97E7-B2664AB40C4D\"'>,\n",
       " <_wmi_object: b'\\\\\\\\HY159-AVIW\\\\root\\\\virtualization\\\\v2:Msvm_ConcreteJob.InstanceID=\"989E064F-ADF7-48ED-8C1F-D8CBEA12C856\"'>]"
      ]
     },
     "execution_count": 5,
     "metadata": {},
     "output_type": "execute_result"
    }
   ],
   "source": [
    "client.Msvm_ConcreteJob()"
   ]
  },
  {
   "cell_type": "code",
   "execution_count": 6,
   "metadata": {},
   "outputs": [],
   "source": [
    "data = '\\\\HY159-AVIW\\root\\virtualization\\v2:Msvm_ConcreteJob.InstanceID=\"1A590D26-D1DA-42DE-916B-4E97AE936490\"'\n"
   ]
  },
  {
   "cell_type": "code",
   "execution_count": 7,
   "metadata": {},
   "outputs": [
    {
     "data": {
      "text/plain": [
       "'\\\\HY159-AVIW\\root\\x0birtualization\\x0b2:Msvm_ConcreteJob.InstanceID=\"1A590D26-D1DA-42DE-916B-4E97AE936490\"'"
      ]
     },
     "execution_count": 7,
     "metadata": {},
     "output_type": "execute_result"
    }
   ],
   "source": [
    "data"
   ]
  },
  {
   "cell_type": "code",
   "execution_count": 9,
   "metadata": {},
   "outputs": [],
   "source": [
    "def __parse_instance_id(job_res: str) -> str:\n",
    "    #instanse_id len is 36 chars.\n",
    "    size = len(job_res)\n",
    "    instanse_id = job_res[size - 36:size - 1]\n",
    "    if len(instanse_id) != 35:\n",
    "        raise infra_exceptions.ParseInstanseIdError\n",
    "    return instanse_id"
   ]
  },
  {
   "cell_type": "code",
   "execution_count": null,
   "metadata": {},
   "outputs": [],
   "source": []
  }
 ],
 "metadata": {
  "kernelspec": {
   "display_name": "Python 3",
   "language": "python",
   "name": "python3"
  },
  "language_info": {
   "codemirror_mode": {
    "name": "ipython",
    "version": 3
   },
   "file_extension": ".py",
   "mimetype": "text/x-python",
   "name": "python",
   "nbconvert_exporter": "python",
   "pygments_lexer": "ipython3",
   "version": "3.7.8"
  }
 },
 "nbformat": 4,
 "nbformat_minor": 4
}
